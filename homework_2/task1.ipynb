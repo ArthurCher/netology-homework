{
 "cells": [
  {
   "cell_type": "code",
   "execution_count": 3,
   "metadata": {},
   "outputs": [
    {
     "name": "stdout",
     "output_type": "stream",
     "text": [
      "Введите слово -> testing\n",
      "t\n"
     ]
    }
   ],
   "source": [
    "# Задание 1\n",
    "\n",
    "user_str = input(\"Введите слово -> \")\n",
    "\n",
    "if len(user_str) % 2 != 0:\n",
    "    print (user_str[int(len(user_str)/2)])\n",
    "\n",
    "else:\n",
    "    print (user_str[int(len(user_str)/2)-1]+user_str[int(len(user_str)/2)])"
   ]
  }
 ],
 "metadata": {
  "kernelspec": {
   "display_name": "Python 3",
   "language": "python",
   "name": "python3"
  },
  "language_info": {
   "codemirror_mode": {
    "name": "ipython",
    "version": 3
   },
   "file_extension": ".py",
   "mimetype": "text/x-python",
   "name": "python",
   "nbconvert_exporter": "python",
   "pygments_lexer": "ipython3",
   "version": "3.8.5"
  }
 },
 "nbformat": 4,
 "nbformat_minor": 4
}
