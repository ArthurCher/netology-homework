{
 "cells": [
  {
   "cell_type": "code",
   "execution_count": 8,
   "metadata": {},
   "outputs": [
    {
     "name": "stdout",
     "output_type": "stream",
     "text": [
      "Вычисление средней температуры в стране\n",
      "Введите страны через запятые в строку ниже\n",
      "Thailand, Germany, Russia, Poland\n",
      "\n",
      "---------------------------------------------\n",
      "Thailand\n",
      "Введите средневненую температуру через запятую в строку ниже\n",
      "75.2, 77, 78.8, 73.4, 68, 75.2, 77\n",
      "\n",
      "---------------------------------------------\n",
      "Germany\n",
      "Введите средневненую температуру через запятую в строку ниже\n",
      "57.2, 55.4, 59, 59, 53.6\n",
      "\n",
      "---------------------------------------------\n",
      "Russia\n",
      "Введите средневненую температуру через запятую в строку ниже\n",
      "35.6, 37.4, 39.2, 41, 42.8, 39.2, 35.6\n",
      "\n",
      "---------------------------------------------\n",
      "Poland\n",
      "Введите средневненую температуру через запятую в строку ниже\n",
      "50, 50, 53.6, 57.2, 55.4, 55.4\n",
      "Средняя температура по странам:\n",
      "Средняя температура в странах:\n",
      "Thailand  -  23.857142857142858\n",
      "Germany  -  13.8\n",
      "Russia  -  3.7142857142857144\n",
      "Poland  -  12.0\n"
     ]
    }
   ],
   "source": [
    "# Задание 4\n",
    "\n",
    "# Вначале собрал данные с клавиатуры и сделал структуру данных как в примере\n",
    "\n",
    "print (\"Вычисление средней температуры в стране\")\n",
    "\n",
    "countries_temperature = []\n",
    "\n",
    "countries = input(\"Введите страны через запятые в строку ниже\\n\")\n",
    "\n",
    "list_countries = countries.split(', ')\n",
    "\n",
    "for country in list_countries:\n",
    "    print(\"\\n---------------------------------------------\")\n",
    "    print(country)\n",
    "    temperature = input(\"Введите средневненую температуру через запятую в строку ниже\\n\")\n",
    "    list_temperature = temperature.split(', ')\n",
    "    \n",
    "    countries_temperature.append([country, list_temperature])\n",
    "\n",
    "# Перевод температуры в градусы Цельсиях\n",
    "\n",
    "for item in countries_temperature:\n",
    "    i = 0\n",
    "    for num in item[1]:\n",
    "        item[1][i] = (float(num)-32)/1.8\n",
    "        i += 1\n",
    "\n",
    "# Расчет средней температуры в странах:\n",
    "\n",
    "print(\"\\n---------------------------------------------\")\n",
    "print (\"Средняя температура в странах:\")\n",
    "for item in countries_temperature:\n",
    "    print (item[0], \" - \", sum(item[1])/len(item[1]), \" C\")"
   ]
  }
 ],
 "metadata": {
  "kernelspec": {
   "display_name": "Python 3",
   "language": "python",
   "name": "python3"
  },
  "language_info": {
   "codemirror_mode": {
    "name": "ipython",
    "version": 3
   },
   "file_extension": ".py",
   "mimetype": "text/x-python",
   "name": "python",
   "nbconvert_exporter": "python",
   "pygments_lexer": "ipython3",
   "version": "3.8.5"
  }
 },
 "nbformat": 4,
 "nbformat_minor": 4
}
