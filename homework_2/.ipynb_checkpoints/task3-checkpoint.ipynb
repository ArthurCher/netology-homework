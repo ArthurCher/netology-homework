{
 "cells": [
  {
   "cell_type": "code",
   "execution_count": 8,
   "metadata": {},
   "outputs": [
    {
     "name": "stdout",
     "output_type": "stream",
     "text": [
      "Подбор идеальных пар\n",
      "Введите мужские именно через запятую:\n",
      "Peter, Alex, John, Arthur, Richard\n",
      "Введите женские именно через запятую:\n",
      "Kate, Liza, Kira, Emma, Trisha\n",
      "Результат:\n",
      "Alex   и  Emma\n",
      "Arthur   и  Kate\n",
      "John   и  Kira\n",
      "Peter   и  Liza\n",
      "Richard   и  Trisha\n"
     ]
    }
   ],
   "source": [
    "# Задание 3\n",
    "\n",
    "print (\"Подбор идеальных пар\")\n",
    "\n",
    "men_name = input(\"Введите мужские именно через запятую:\\n\")\n",
    "men_list = men_name.split(', ')\n",
    "\n",
    "women_name = input(\"Введите женские именно через запятую:\\n\")\n",
    "women_list = women_name.split(', ')\n",
    "\n",
    "if len(men_list) == len(women_list):\n",
    "    print (\"Результат:\")\n",
    "    men_list = sorted(men_list)\n",
    "    women_list = sorted(women_list)\n",
    "    i = 0\n",
    "    while i < len(men_list):\n",
    "        print (men_list[i], \" и \", women_list[i])\n",
    "        i+=1\n",
    "        \n",
    "else:\n",
    "    print (\"Результат:\\nВнимание, кто-то может остаться без пары!\")"
   ]
  }
 ],
 "metadata": {
  "kernelspec": {
   "display_name": "Python 3",
   "language": "python",
   "name": "python3"
  },
  "language_info": {
   "codemirror_mode": {
    "name": "ipython",
    "version": 3
   },
   "file_extension": ".py",
   "mimetype": "text/x-python",
   "name": "python",
   "nbconvert_exporter": "python",
   "pygments_lexer": "ipython3",
   "version": "3.8.5"
  }
 },
 "nbformat": 4,
 "nbformat_minor": 4
}
