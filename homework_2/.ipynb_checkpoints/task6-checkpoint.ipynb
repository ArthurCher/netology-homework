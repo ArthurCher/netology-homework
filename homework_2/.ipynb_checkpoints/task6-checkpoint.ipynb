{
 "cells": [
  {
   "cell_type": "code",
   "execution_count": 12,
   "metadata": {},
   "outputs": [
    {
     "name": "stdout",
     "output_type": "stream",
     "text": [
      "Введите числа через пробел в строку ниже:\n",
      "10 15 15 103 200 200 200 1 1 1 1 1 2 2 2\n",
      "Результат:\n",
      "1 2 15 200 "
     ]
    }
   ],
   "source": [
    "# Задание 6\n",
    "\n",
    "numbers = input(\"Введите числа через пробел в строку ниже:\\n\")\n",
    "\n",
    "list_numbers = numbers.split(' ')\n",
    "unic_list = []\n",
    "\n",
    "for num in list_numbers:    \n",
    "    if list_numbers.count(num) > 1 and (int(num) not in unic_list):\n",
    "        unic_list.append(int(num))\n",
    "\n",
    "unic_list = sorted(unic_list)\n",
    "\n",
    "print(\"Результат:\")\n",
    "for num in unic_list:\n",
    "    print(num, end=' ')"
   ]
  }
 ],
 "metadata": {
  "kernelspec": {
   "display_name": "Python 3",
   "language": "python",
   "name": "python3"
  },
  "language_info": {
   "codemirror_mode": {
    "name": "ipython",
    "version": 3
   },
   "file_extension": ".py",
   "mimetype": "text/x-python",
   "name": "python",
   "nbconvert_exporter": "python",
   "pygments_lexer": "ipython3",
   "version": "3.8.5"
  }
 },
 "nbformat": 4,
 "nbformat_minor": 4
}
