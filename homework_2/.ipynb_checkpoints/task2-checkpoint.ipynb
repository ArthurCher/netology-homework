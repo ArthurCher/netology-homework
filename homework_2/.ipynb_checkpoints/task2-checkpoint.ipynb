{
 "cells": [
  {
   "cell_type": "code",
   "execution_count": 7,
   "metadata": {},
   "outputs": [
    {
     "name": "stdout",
     "output_type": "stream",
     "text": [
      "Введите число -> 1\n",
      "Введите число -> 4\n",
      "Введите число -> 6\n",
      "Введите число -> 0\n",
      "Сумма введенных чисел -> 11\n"
     ]
    }
   ],
   "source": [
    "# Задание 2\n",
    "\n",
    "sum = 0\n",
    "num = 1\n",
    "\n",
    "while num != 0:\n",
    "    num = int(input(\"Введите число -> \"))\n",
    "    sum += num\n",
    "\n",
    "print (\"Сумма введенных чисел ->\", sum)"
   ]
  }
 ],
 "metadata": {
  "kernelspec": {
   "display_name": "Python 3",
   "language": "python",
   "name": "python3"
  },
  "language_info": {
   "codemirror_mode": {
    "name": "ipython",
    "version": 3
   },
   "file_extension": ".py",
   "mimetype": "text/x-python",
   "name": "python",
   "nbconvert_exporter": "python",
   "pygments_lexer": "ipython3",
   "version": "3.8.5"
  }
 },
 "nbformat": 4,
 "nbformat_minor": 4
}
