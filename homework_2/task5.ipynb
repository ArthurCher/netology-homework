{
 "cells": [
  {
   "cell_type": "code",
   "execution_count": 12,
   "metadata": {},
   "outputs": [
    {
     "name": "stdout",
     "output_type": "stream",
     "text": [
      "Среднее количество просмотров на уникального пользователя\n",
      "------------------------------------------------------------------------------\n",
      "Логи:\n",
      " ['2018-01-01,user1,3', '2018-01-07,user1,4', '2018-03-29,user1,1', '2018-04-04,user1,13', '2018-01-05,user2,7', '2018-06-14,user3,4', '2018-07-02,user3,10', '2018-03-21,user4,19', '2018-03-22,user4,4', '2018-04-22,user4,8', '2018-05-03,user4,9', '2018-05-11,user4,11']\n",
      "Результат:\n",
      "Среднее количество просмотров на уникального пользователя:  23.25\n"
     ]
    }
   ],
   "source": [
    "# Задание 5\n",
    "\n",
    "print (\"Среднее количество просмотров на уникального пользователя\")\n",
    "print (\"------------------------------------------------------------------------------\")\n",
    "\n",
    "# Получаю данные из файла, чтобы сделать структуру данных как в примере\n",
    "# Решил, что из файла будет самоудобный вариант получить данные, к тому же сами логи лежат в файлах\n",
    "\n",
    "stream = []\n",
    "\n",
    "with open(\"stream.log\") as stream_file:\n",
    "    for line in stream_file:\n",
    "        stream.append(line.replace('\\n', ''))\n",
    "\n",
    "print(\"Логи:\\n\", stream)\n",
    "\n",
    "users = []\n",
    "pages = []\n",
    "        \n",
    "for line in stream:\n",
    "    users.append(line.split(\",\")[1])\n",
    "    pages.append(int(line.split(\",\")[2]))\n",
    "\n",
    "unic_users = list(set(users))\n",
    "\n",
    "print(\"Результат:\\nСреднее количество просмотров на уникального пользователя: \", sum(pages)/len(unic_users))"
   ]
  }
 ],
 "metadata": {
  "kernelspec": {
   "display_name": "Python 3",
   "language": "python",
   "name": "python3"
  },
  "language_info": {
   "codemirror_mode": {
    "name": "ipython",
    "version": 3
   },
   "file_extension": ".py",
   "mimetype": "text/x-python",
   "name": "python",
   "nbconvert_exporter": "python",
   "pygments_lexer": "ipython3",
   "version": "3.8.5"
  }
 },
 "nbformat": 4,
 "nbformat_minor": 4
}
