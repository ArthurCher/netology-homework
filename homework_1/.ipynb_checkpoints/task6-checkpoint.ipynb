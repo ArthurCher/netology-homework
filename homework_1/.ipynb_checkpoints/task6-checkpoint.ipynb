{
 "cells": [
  {
   "cell_type": "code",
   "execution_count": 3,
   "metadata": {},
   "outputs": [
    {
     "name": "stdout",
     "output_type": "stream",
     "text": [
      "Вычисление площади фигуры (круг, треугольник или прямоугольник)\n",
      "Введите название фигуры (круг, треугольник или прямоугольник) -> прямоугольник\n",
      "Введите длину прямоугольника -> 2\n",
      "Введите ширину прямоугольника -> 4\n",
      "Площадь прямогольника ->  8\n"
     ]
    }
   ],
   "source": [
    "import math\n",
    "\n",
    "def square_circle (radius):\n",
    "    square = math.pi*(radius**2)\n",
    "    \n",
    "    return square\n",
    "\n",
    "def square_rectangle (lenght, width):\n",
    "    square = lenght*width\n",
    "    \n",
    "    return square\n",
    "\n",
    "def square_triangle (side1, side2, side3):\n",
    "    p = (side1+side2+side3)/2\n",
    "    \n",
    "    square = math.sqrt(p*(p-side1)*(p-side2)*(p-side3))\n",
    "    \n",
    "    return square\n",
    "\n",
    "print (\"Вычисление площади фигуры (круг, треугольник или прямоугольник)\")\n",
    "figuare = input(\"Введите название фигуры (круг, треугольник или прямоугольник) -> \")\n",
    "\n",
    "if figuare == 'круг':\n",
    "    radius = int(input(\"Введите радиус круга -> \"))\n",
    "    \n",
    "    print (\"Площадь круга -> \", square_circle(radius))\n",
    "    \n",
    "elif figuare == 'треугольник':\n",
    "    side1 = int(input(\"Введите длину первой стороны -> \"))\n",
    "    side2 = int(input(\"Введите длину второй стороны -> \"))\n",
    "    side3 = int(input(\"Введите длину третей стороны -> \"))\n",
    "    \n",
    "    print (\"Площадь треугольника -> \", square_triangle(side1, side2, side3))\n",
    "    \n",
    "elif figuare == 'прямоугольник':\n",
    "    lenght = int(input(\"Введите длину прямоугольника -> \"))\n",
    "    width = int(input(\"Введите ширину прямоугольника -> \"))\n",
    "    \n",
    "    print (\"Площадь прямогольника -> \", square_rectangle(lenght, width))\n",
    "    \n",
    "else:\n",
    "    print (\"Нет такой фигуры\")"
   ]
  }
 ],
 "metadata": {
  "kernelspec": {
   "display_name": "Python 3",
   "language": "python",
   "name": "python3"
  },
  "language_info": {
   "codemirror_mode": {
    "name": "ipython",
    "version": 3
   },
   "file_extension": ".py",
   "mimetype": "text/x-python",
   "name": "python",
   "nbconvert_exporter": "python",
   "pygments_lexer": "ipython3",
   "version": "3.8.5"
  }
 },
 "nbformat": 4,
 "nbformat_minor": 4
}
