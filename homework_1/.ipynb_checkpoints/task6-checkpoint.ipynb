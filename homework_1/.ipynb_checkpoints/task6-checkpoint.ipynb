{
 "cells": [
  {
   "cell_type": "code",
   "execution_count": null,
   "metadata": {},
   "outputs": [],
   "source": [
    "import math\n",
    "\n",
    "def square_circle (radius):\n",
    "    square = math.pi*(radius**2)\n",
    "    \n",
    "    return square\n",
    "\n",
    "def square_kvadrat (lenght, width):\n",
    "    square = lenght*width\n",
    "    \n",
    "    return square\n",
    "\n",
    "def square_triangle (side1, side2, side3):\n",
    "    p = (side1+side2+side3)/2\n",
    "    \n",
    "    square = math.sqrt(p*(p-side1)*(p-side2)*(p-side3))\n",
    "    \n",
    "    return square"
   ]
  }
 ],
 "metadata": {
  "kernelspec": {
   "display_name": "Python 3",
   "language": "python",
   "name": "python3"
  },
  "language_info": {
   "codemirror_mode": {
    "name": "ipython",
    "version": 3
   },
   "file_extension": ".py",
   "mimetype": "text/x-python",
   "name": "python",
   "nbconvert_exporter": "python",
   "pygments_lexer": "ipython3",
   "version": "3.8.5"
  }
 },
 "nbformat": 4,
 "nbformat_minor": 4
}
