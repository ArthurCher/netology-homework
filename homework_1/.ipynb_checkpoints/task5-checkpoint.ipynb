{
 "cells": [
  {
   "cell_type": "code",
   "execution_count": 3,
   "metadata": {},
   "outputs": [
    {
     "name": "stdout",
     "output_type": "stream",
     "text": [
      "Проверка: является ли билет счастливым?\n",
      "Введите номер билета -> 122500\n",
      "Билет счастлиый\n"
     ]
    }
   ],
   "source": [
    "# Задание 5\n",
    "\n",
    "print (\"Проверка: является ли билет счастливым?\")\n",
    "number = input(\"Введите номер билета -> \")\n",
    "\n",
    "while True:\n",
    "    if len(number) == 6:\n",
    "        sum1 = int(number[0])+int(number[1])+int(number[2])\n",
    "        sum2 = int(number[5])+int(number[4])+int(number[3])\n",
    "        \n",
    "        if sum1 == sum2:\n",
    "            print(\"Билет счастлиый\")\n",
    "        \n",
    "        else:\n",
    "            print(\"Билет несчастлиый\")\n",
    "        \n",
    "        break\n",
    "        \n",
    "    else:\n",
    "        print(\"Введен не верный номер билета\")\n"
   ]
  }
 ],
 "metadata": {
  "kernelspec": {
   "display_name": "Python 3",
   "language": "python",
   "name": "python3"
  },
  "language_info": {
   "codemirror_mode": {
    "name": "ipython",
    "version": 3
   },
   "file_extension": ".py",
   "mimetype": "text/x-python",
   "name": "python",
   "nbconvert_exporter": "python",
   "pygments_lexer": "ipython3",
   "version": "3.8.5"
  }
 },
 "nbformat": 4,
 "nbformat_minor": 4
}
