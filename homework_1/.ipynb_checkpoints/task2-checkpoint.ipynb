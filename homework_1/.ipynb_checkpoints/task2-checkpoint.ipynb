{
 "cells": [
  {
   "cell_type": "code",
   "execution_count": null,
   "metadata": {},
   "outputs": [
    {
     "name": "stdout",
     "output_type": "stream",
     "text": [
      "Високосный год или нет?\n"
     ]
    }
   ],
   "source": [
    "#Задание 2\n",
    "\n",
    "print (\"Високосный год или нет?\")\n",
    "while True:\n",
    "    year = input (\"Введите год в формате ХХХХ -> \")\n",
    "    if len(year) == 4 and int(year) > 0:\n",
    "        if int(year) % 4 != 0:\n",
    "            print (\"Год не високосный\")\n",
    "        \n",
    "        else:\n",
    "            if int(year) % 100 != 0:\n",
    "                print  (\"Год високосный\")\n",
    "                \n",
    "            else:\n",
    "                if int(year) % 400 != 0:\n",
    "                    print (\"Год не високосный\")\n",
    "                    \n",
    "                else:\n",
    "                    print (\"Год високосный\")\n",
    "                    \n",
    "        break\n",
    "        \n",
    "    else:\n",
    "        print (\"Введен не верный год\")"
   ]
  }
 ],
 "metadata": {
  "kernelspec": {
   "display_name": "Python 3",
   "language": "python",
   "name": "python3"
  },
  "language_info": {
   "codemirror_mode": {
    "name": "ipython",
    "version": 3
   },
   "file_extension": ".py",
   "mimetype": "text/x-python",
   "name": "python",
   "nbconvert_exporter": "python",
   "pygments_lexer": "ipython3",
   "version": "3.8.5"
  }
 },
 "nbformat": 4,
 "nbformat_minor": 4
}
