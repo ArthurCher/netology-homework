{
 "cells": [
  {
   "cell_type": "code",
   "execution_count": 1,
   "metadata": {},
   "outputs": [
    {
     "name": "stdout",
     "output_type": "stream",
     "text": [
      "Определение какая из двух строк длинее\n",
      "Введите первую фразу -> йцук\n",
      "Введите вторую фразу -> йцуке\n",
      "Вторая фраза длиннее\n"
     ]
    }
   ],
   "source": [
    "#Задание 1\n",
    "\n",
    "print (\"Определение какая из двух строк длинее\")\n",
    "phrase_1 = input (\"Введите первую фразу -> \")\n",
    "phrase_2 = input (\"Введите вторую фразу -> \")\n",
    "\n",
    "if len(phrase_1) > len(phrase_2):\n",
    "    print (\"Первая фраза длиннее\")\n",
    "    \n",
    "elif len(phrase_1) < len(phrase_2):\n",
    "    print (\"Вторая фраза длиннее\")\n",
    "\n",
    "else:\n",
    "    print (\"Фразы одинаковой длины\")"
   ]
  }
 ],
 "metadata": {
  "kernelspec": {
   "display_name": "Python 3",
   "language": "python",
   "name": "python3"
  },
  "language_info": {
   "codemirror_mode": {
    "name": "ipython",
    "version": 3
   },
   "file_extension": ".py",
   "mimetype": "text/x-python",
   "name": "python",
   "nbconvert_exporter": "python",
   "pygments_lexer": "ipython3",
   "version": "3.8.5"
  }
 },
 "nbformat": 4,
 "nbformat_minor": 4
}
