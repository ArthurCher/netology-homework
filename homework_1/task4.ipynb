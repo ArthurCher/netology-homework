{
 "cells": [
  {
   "cell_type": "code",
   "execution_count": 10,
   "metadata": {},
   "outputs": [
    {
     "name": "stdout",
     "output_type": "stream",
     "text": [
      "Подбор упакоки по размерам\n",
      "Введите ширину товара (см) -> 14\n",
      "Введите длину товара (см) -> 51\n",
      "Введите высоты товара (см) -> 35\n",
      "Стандартная упаковка №3\n"
     ]
    }
   ],
   "source": [
    "# Задание 4\n",
    "\n",
    "print (\"Подбор упакоки по размерам\")\n",
    "\n",
    "width = int(input(\"Введите ширину товара (см) -> \"))\n",
    "length = int(input(\"Введите длину товара (см) -> \"))\n",
    "height = int(input(\"Введите высоты товара (см) -> \"))\n",
    "\n",
    "if width < 15 and length < 15 and height < 15:\n",
    "    print (\"Коробка №1\")\n",
    "\n",
    "elif (width > 15 or length > 15 or height > 15) and (height < 50 and length < 50 and height < 50):\n",
    "    print (\"Коробка №2\")\n",
    "\n",
    "elif length > 200:\n",
    "    print (\"Упаковка для лыж\")\n",
    "\n",
    "else:\n",
    "    print (\"Стандартная упаковка №3\")\n"
   ]
  }
 ],
 "metadata": {
  "kernelspec": {
   "display_name": "Python 3",
   "language": "python",
   "name": "python3"
  },
  "language_info": {
   "codemirror_mode": {
    "name": "ipython",
    "version": 3
   },
   "file_extension": ".py",
   "mimetype": "text/x-python",
   "name": "python",
   "nbconvert_exporter": "python",
   "pygments_lexer": "ipython3",
   "version": "3.8.5"
  }
 },
 "nbformat": 4,
 "nbformat_minor": 4
}
