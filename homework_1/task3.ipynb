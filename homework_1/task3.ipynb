{
 "cells": [
  {
   "cell_type": "code",
   "execution_count": 8,
   "metadata": {},
   "outputs": [
    {
     "name": "stdout",
     "output_type": "stream",
     "text": [
      "Определение знака зодиака по дате рождения\n",
      "Введите дату рождения -> 29\n",
      "Введите месяц рождения -> ноябрь\n",
      "Знак зодиака - Стрелец\n"
     ]
    }
   ],
   "source": [
    "# Задание 3\n",
    "\n",
    "print (\"Определение знака зодиака по дате рождения\")\n",
    "while True:\n",
    "    date = int (input (\"Введите дату рождения -> \"))\n",
    "    month = input (\"Введите месяц рождения -> \")\n",
    "\n",
    "    if (date >= 21 and date <= 31 and month == 'март') or (date <= 20 and date >= 1 and month == 'апрель'):\n",
    "        print (\"Знак зодиака - Овен\")\n",
    "        break\n",
    "    \n",
    "    elif (date >= 21 and date <= 30 and month == 'апрель') or (date >= 1 and date <= 21 and month == 'май'):\n",
    "        print (\"Знак зодиака - Телец\")\n",
    "        break\n",
    "    \n",
    "    elif (date >= 22 and date <= 31 and month == 'май') or (date >= 1 and date <= 21 and month == 'июнь'):\n",
    "        print (\"Знак зодиака - Близнец\")\n",
    "        break\n",
    "    \n",
    "    elif (date >= 22 and date <= 30 and month == 'июнь') or (date >= 1 and date <= 22 and month == 'июль'):\n",
    "        print (\"Знак зодиака - Рак\")\n",
    "        break\n",
    "    \n",
    "    elif (date >= 23 and date <= 31 and month == 'июль') or (date >= 1 and date <= 21 and month == 'август'):\n",
    "        print (\"Знак зодиака - Рак\")\n",
    "        break\n",
    "    \n",
    "    elif (date >= 22 and date <= 30 and month == 'август') or (date >= 1 and date <= 23 and month == 'сентябрь'):\n",
    "        print (\"Знак зодиака - Дева\")\n",
    "        break\n",
    "    \n",
    "    elif (date >= 24 and date <= 30 and month == 'сентябрь') or (date >= 1 and date <= 23 and month == 'октябрь'):\n",
    "        print (\"Знак зодиака - Весы\")\n",
    "        break\n",
    "    \n",
    "    elif (date >= 24 and date <= 31 and month == 'октябрь') or (date >= 1 and date <= 22 and month == 'ноябрь'):\n",
    "        print (\"Знак зодиака - Весы\")\n",
    "        break\n",
    "        \n",
    "    elif (date >= 23 and date <= 30 and month == 'ноябрь') or (date >= 1 and date <= 22 and month == 'декабрь'):\n",
    "        print (\"Знак зодиака - Стрелец\")\n",
    "        break\n",
    "    \n",
    "    elif (date >= 23 and date <= 31 and month == 'декабрь') or (date >= 1 and date <= 20 and month == 'январь'):\n",
    "        print (\"Знак зодиака - Козерог\")\n",
    "        break\n",
    "        \n",
    "    elif (date >= 21 and date <= 31 and month == 'январь') or (date >= 1 and date <= 19 and month == 'февраль'):\n",
    "        print (\"Знак зодиака - Водолей\")\n",
    "        break\n",
    "    \n",
    "    elif (date >= 20 and date <= 29 and month == 'февраль') or (date >= 1 and date <= 20 and month == 'март'):\n",
    "        print (\"Знак зодиака - Рыба\")\n",
    "        break\n",
    "    \n",
    "    else:\n",
    "        print (\"Введена не верная дата\")\n",
    "    \n"
   ]
  }
 ],
 "metadata": {
  "kernelspec": {
   "display_name": "Python 3",
   "language": "python",
   "name": "python3"
  },
  "language_info": {
   "codemirror_mode": {
    "name": "ipython",
    "version": 3
   },
   "file_extension": ".py",
   "mimetype": "text/x-python",
   "name": "python",
   "nbconvert_exporter": "python",
   "pygments_lexer": "ipython3",
   "version": "3.8.5"
  }
 },
 "nbformat": 4,
 "nbformat_minor": 4
}
