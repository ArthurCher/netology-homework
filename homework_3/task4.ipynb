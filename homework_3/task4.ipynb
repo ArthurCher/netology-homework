{
 "cells": [
  {
   "cell_type": "code",
   "execution_count": 16,
   "metadata": {},
   "outputs": [
    {
     "name": "stdout",
     "output_type": "stream",
     "text": [
      "Результат:\n",
      "\n",
      "Максимальный объем продаж на рекламном канале: vk, "
     ]
    }
   ],
   "source": [
    "# Задание 4\n",
    "# Беру данные из файла, переделываю их в словарь и со словарем работать\n",
    "# На мой взгляд, когда данные лежат в текстовом файле - ситуация более частая\n",
    "# Предусмотрел, если несколько рекламных каналов имеют одинаковый максимальный объем продаж (такое тоже может быть)\n",
    "\n",
    "stats = {}\n",
    "\n",
    "with open('source_stat.txt') as data_file:\n",
    "    for line in data_file:\n",
    "        stats[line.split(': ')[0]] = float(line.split(': ')[1].replace('\\n', ''))\n",
    "\n",
    "sales_data = []\n",
    "\n",
    "for source in stats:\n",
    "    sales_data.append(stats[source])\n",
    "\n",
    "set_sales_data = set(sales_data)\n",
    "\n",
    "print(\"Результат:\\n\\nМаксимальный объем продаж на рекламном канале:\", end=' ')\n",
    "\n",
    "for source in stats:\n",
    "    if stats[source] == max(set_sales_data):\n",
    "        print(source, end=', ')"
   ]
  }
 ],
 "metadata": {
  "kernelspec": {
   "display_name": "Python 3",
   "language": "python",
   "name": "python3"
  },
  "language_info": {
   "codemirror_mode": {
    "name": "ipython",
    "version": 3
   },
   "file_extension": ".py",
   "mimetype": "text/x-python",
   "name": "python",
   "nbconvert_exporter": "python",
   "pygments_lexer": "ipython3",
   "version": "3.8.5"
  }
 },
 "nbformat": 4,
 "nbformat_minor": 4
}
