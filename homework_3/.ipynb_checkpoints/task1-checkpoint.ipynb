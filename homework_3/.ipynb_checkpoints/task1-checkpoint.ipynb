{
 "cells": [
  {
   "cell_type": "code",
   "execution_count": 1,
   "metadata": {},
   "outputs": [
    {
     "name": "stdout",
     "output_type": "stream",
     "text": [
      "Результат:\n",
      "\n",
      " {'213', '119', '98', '35', '15', '54'}\n"
     ]
    }
   ],
   "source": [
    "# Задание 1\n",
    "# Опять решил брать данные из файла, переделать их в словарь и со словарем работать\n",
    "# На мой взгляд, когда данные лежат в текстовом файле - ситуация более частая\n",
    "\n",
    "ids = {}\n",
    "\n",
    "with open(\"geo_users.txt\") as data_file:\n",
    "    for line in data_file:\n",
    "        index = line.split(': ')[0]\n",
    "        geo_data = line.split(': ')[1].replace('\\n', '')\n",
    "        ids[index] = geo_data.split(', ')\n",
    "\n",
    "result_list = []\n",
    "\n",
    "for index in ids:\n",
    "    result_list.extend(ids[index])\n",
    "\n",
    "result_set = set(result_list)\n",
    "    \n",
    "print(\"Результат:\\n\\n\", result_set)\n",
    "        "
   ]
  }
 ],
 "metadata": {
  "kernelspec": {
   "display_name": "Python 3",
   "language": "python",
   "name": "python3"
  },
  "language_info": {
   "codemirror_mode": {
    "name": "ipython",
    "version": 3
   },
   "file_extension": ".py",
   "mimetype": "text/x-python",
   "name": "python",
   "nbconvert_exporter": "python",
   "pygments_lexer": "ipython3",
   "version": "3.8.5"
  }
 },
 "nbformat": 4,
 "nbformat_minor": 4
}
