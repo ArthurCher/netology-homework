{
 "cells": [
  {
   "cell_type": "code",
   "execution_count": 83,
   "metadata": {},
   "outputs": [
    {
     "name": "stdout",
     "output_type": "stream",
     "text": [
      "Введите количество порций -> 2\n",
      "\n",
      "Результат:\n",
      "\n",
      "сыр: 140 гр\n",
      "томаты: 4 шт\n",
      "огурцы: 40 гр\n",
      "маслины: 20 гр\n",
      "оливковое масло: 40 мл\n",
      "салат: 20 гр\n",
      "перец: 40 гр\n",
      "колбаса: 60 гр\n",
      "бекон: 60 гр\n",
      "оливки: 20 гр\n",
      "томаты: 40 гр\n",
      "тесто: 200 гр\n",
      "лимон: 2 шт\n",
      "вода: 400 мл\n",
      "сахар: 20 гр\n",
      "лайм: 40 гр\n"
     ]
    }
   ],
   "source": [
    "# Задание 6 (необязательно)\n",
    "# Опять же беру данные из файла, думаю рецепт чаще всего в файле хранятся\n",
    "# Думаю так больше приближено к практике\n",
    "\n",
    "import re\n",
    "\n",
    "cook_book = {}\n",
    "\n",
    "with open('recipes.txt') as data_file:\n",
    "    data = data_file.read()\n",
    "    \n",
    "cook_list = data.split('\\n\\n')\n",
    "\n",
    "for dish in cook_list:\n",
    "    cook_book[dish.split(':\\n')[0]] = dish.split(':\\n')[1]\n",
    "    \n",
    "for dish in cook_book:\n",
    "    food_list = cook_book[dish].split('\\n')\n",
    "    ingredients_list = []\n",
    "    for food in food_list:\n",
    "        ingredients_dict = {}\n",
    "        ingredients_dict['ingridient_name'] = food.split(' ')[0]\n",
    "        ingredients_dict['quantity'] = int(food.split(' ')[1])\n",
    "        ingredients_dict['measure'] = food.split(' ')[2]\n",
    "        ingredients_list.append(ingredients_dict)\n",
    "    \n",
    "    cook_book[dish] = ingredients_list\n",
    "\n",
    "all_ingredients = []\n",
    "\n",
    "for dish in cook_book:\n",
    "    for ingredient in cook_book[dish]:\n",
    "        all_ingredients.append(ingredient)\n",
    "\n",
    "summer_ingredients = {}\n",
    "iter = 1\n",
    "\n",
    "for ingredient in all_ingredients:\n",
    "    if (ingredient['ingridient_name'] in summer_ingredients) and (ingredient['measure'] in summer_ingredients[ingredient['ingridient_name']]):\n",
    "        summer_ingredients[ingredient['ingridient_name']] = str(ingredient['quantity'] +\n",
    "        int(summer_ingredients[ingredient['ingridient_name']].split(' ')[0]))+' '+ingredient['measure']\n",
    "    elif (ingredient['ingridient_name'] in summer_ingredients) and (ingredient['measure'] not in summer_ingredients[ingredient['ingridient_name']]):\n",
    "        summer_ingredients[ingredient['ingridient_name']+str(iter)] = str(ingredient['quantity'])+' '+ingredient['measure']\n",
    "        iter += 1\n",
    "    else:\n",
    "        summer_ingredients[ingredient['ingridient_name']] = str(ingredient['quantity'])+' '+ingredient['measure']\n",
    "    \n",
    "\n",
    "count_person = int(input(\"Введите количество порций -> \"))\n",
    "\n",
    "print(\"\\nРезультат:\\n\")\n",
    "\n",
    "for product in summer_ingredients:\n",
    "    print((re.split('\\d',product)[0]).replace('_', ' ') +': '+ \n",
    "          str(int(summer_ingredients[product].split(' ')[0])*count_person) + ' ' + \n",
    "          summer_ingredients[product].split(' ')[1])"
   ]
  }
 ],
 "metadata": {
  "kernelspec": {
   "display_name": "Python 3",
   "language": "python",
   "name": "python3"
  },
  "language_info": {
   "codemirror_mode": {
    "name": "ipython",
    "version": 3
   },
   "file_extension": ".py",
   "mimetype": "text/x-python",
   "name": "python",
   "nbconvert_exporter": "python",
   "pygments_lexer": "ipython3",
   "version": "3.8.5"
  }
 },
 "nbformat": 4,
 "nbformat_minor": 4
}
