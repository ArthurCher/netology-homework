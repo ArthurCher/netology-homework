{
 "cells": [
  {
   "cell_type": "code",
   "execution_count": 29,
   "metadata": {},
   "outputs": [
    {
     "name": "stdout",
     "output_type": "stream",
     "text": [
      "Результат:\n",
      "\n",
      " {'vk': {'revenue': 103.0, 'cost': 98.0, 'ROI': 5.1}, 'yandex': {'revenue': 179.0, 'cost': 153.0, 'ROI': 16.99}, 'facebook': {'revenue': 103.0, 'cost': 110.0, 'ROI': -6.36}, 'adwords': {'revenue': 35.0, 'cost': 34.0, 'ROI': 2.94}, 'twitter': {'revenue': 11.0, 'cost': 24.0, 'ROI': -54.17}}\n"
     ]
    }
   ],
   "source": [
    "#Задание 3\n",
    "# Беру данные из файла, переделываю их в словарь и со словарем работать\n",
    "# На мой взгляд, когда данные лежат в текстовом файле - ситуация более частая\n",
    "\n",
    "results = {}\n",
    "\n",
    "with open('fin_results.txt') as data_file:\n",
    "    for line in data_file:\n",
    "        list_data_results = line.split(', ')[0].split(': ')\n",
    "        list_data_results.extend(line.split(', ')[1].split(': '))\n",
    "        index = list_data_results[0]\n",
    "        data_list = {}\n",
    "        data_list[list_data_results[1]] = float(list_data_results[2])\n",
    "        data_list[list_data_results[3]] = float(list_data_results[4].replace('\\n',''))\n",
    "        results[index] = data_list\n",
    "\n",
    "for source in results:\n",
    "    roi = round(((results[source]['revenue']/results[source]['cost'])-1)*100,2)\n",
    "    results[source]['ROI'] = roi\n",
    "\n",
    "print(\"Результат:\\n\\n\", results)"
   ]
  }
 ],
 "metadata": {
  "kernelspec": {
   "display_name": "Python 3",
   "language": "python",
   "name": "python3"
  },
  "language_info": {
   "codemirror_mode": {
    "name": "ipython",
    "version": 3
   },
   "file_extension": ".py",
   "mimetype": "text/x-python",
   "name": "python",
   "nbconvert_exporter": "python",
   "pygments_lexer": "ipython3",
   "version": "3.8.5"
  }
 },
 "nbformat": 4,
 "nbformat_minor": 4
}
