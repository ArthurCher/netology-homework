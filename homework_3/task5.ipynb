{
 "cells": [
  {
   "cell_type": "code",
   "execution_count": 11,
   "metadata": {},
   "outputs": [
    {
     "name": "stdout",
     "output_type": "stream",
     "text": [
      "Введите элементы массива через запятую без пробелов -> 1,2,3,4,5\n",
      "Результат:\n",
      "\n",
      " {'1': {'2': {'3': {'4': '5'}}}}\n"
     ]
    }
   ],
   "source": [
    "# Задание 5\n",
    "\n",
    "elements = input(\"Введите элементы массива через запятую без пробелов -> \")\n",
    "my_list = elements.split(',')\n",
    "my_dict = {}\n",
    "my_dict_help = {}\n",
    "i = 1\n",
    "value = my_list[len(my_list) - i]\n",
    "\n",
    "while len(my_list) > i:\n",
    "    index = my_list[len(my_list) - i - 1]\n",
    "    my_dict_help[index] = value\n",
    "    my_dict = my_dict_help.copy()\n",
    "    value = my_dict_help.copy()\n",
    "    my_dict_help.clear()\n",
    "    i+=1\n",
    "    \n",
    "print(\"Результат:\\n\\n\", my_dict)"
   ]
  }
 ],
 "metadata": {
  "kernelspec": {
   "display_name": "Python 3",
   "language": "python",
   "name": "python3"
  },
  "language_info": {
   "codemirror_mode": {
    "name": "ipython",
    "version": 3
   },
   "file_extension": ".py",
   "mimetype": "text/x-python",
   "name": "python",
   "nbconvert_exporter": "python",
   "pygments_lexer": "ipython3",
   "version": "3.8.5"
  }
 },
 "nbformat": 4,
 "nbformat_minor": 4
}
