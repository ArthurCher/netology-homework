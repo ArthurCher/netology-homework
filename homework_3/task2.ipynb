{
 "cells": [
  {
   "cell_type": "code",
   "execution_count": 2,
   "metadata": {},
   "outputs": [
    {
     "name": "stdout",
     "output_type": "stream",
     "text": [
      "Результат:\n",
      "\n",
      "Поисковых запросов, содержащих 2 слов(а): 42.86 %\n",
      "Поисковых запросов, содержащих 3 слов(а): 57.14 %\n"
     ]
    }
   ],
   "source": [
    "# Задание 2\n",
    "# Беру данные из файла, переделываю их в список и со списком работаю\n",
    "# На мой взгляд, когда данные лежат в текстовом файле - ситуация более частая\n",
    "\n",
    "queries = []\n",
    "\n",
    "with open(\"queries.txt\") as data_file:\n",
    "    for line in data_file:\n",
    "        queries.append(line.replace('\\n', ''))\n",
    "               \n",
    "count_words = []            \n",
    "            \n",
    "for query in queries:\n",
    "    count_words.append(len(query.split(' ')))\n",
    "    \n",
    "set_count_wors = set(count_words)\n",
    "\n",
    "print(\"Результат:\\n\")\n",
    "\n",
    "for elements in set_count_wors:\n",
    "     print('Поисковых запросов, содержащих', elements,'слов(а):', \n",
    "           round((count_words.count(elements)/len(count_words))*100, 2), '%')"
   ]
  }
 ],
 "metadata": {
  "kernelspec": {
   "display_name": "Python 3",
   "language": "python",
   "name": "python3"
  },
  "language_info": {
   "codemirror_mode": {
    "name": "ipython",
    "version": 3
   },
   "file_extension": ".py",
   "mimetype": "text/x-python",
   "name": "python",
   "nbconvert_exporter": "python",
   "pygments_lexer": "ipython3",
   "version": "3.8.5"
  }
 },
 "nbformat": 4,
 "nbformat_minor": 4
}
