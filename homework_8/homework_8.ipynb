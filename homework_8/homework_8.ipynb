{
 "cells": [
  {
   "cell_type": "markdown",
   "metadata": {},
   "source": [
    "### Домашнее задание к лекции \"Регулярные выражения\"\n",
    "\n",
    "#### Задание 1\n",
    "Напишите функцию, которая принимает на вход строку и проверяет является ли она валидным транспортным номером (1 буква, 3 цифры, 2 буквы, 2-3 цифры). Обратите внимание, что не все буквы кириллического алфавита используются в транспортных номерах.\n",
    "\n",
    "Если номер валиден, то функция должна возвращать отдельно номер и регион."
   ]
  },
  {
   "cell_type": "code",
   "execution_count": 62,
   "metadata": {},
   "outputs": [
    {
     "name": "stdout",
     "output_type": "stream",
     "text": [
      "Введите автомобильные номер -> АБ22ВВ193\n",
      "Номер не валиден\n"
     ]
    }
   ],
   "source": [
    "import re\n",
    "\n",
    "def check_transport_number(number):\n",
    "    if re.findall(r'^([A-ZАВЕКМНОРСТУХ]\\d{3}[A-ZАВЕКМНОРСТУХ]{2})(\\d{2,3})$', number):\n",
    "        auto_number = re.findall(r'^([A-ZАВЕКМНОРСТУХ]\\d{3}[A-ZАВЕКМНОРСТУХ]{2})(\\d{2,3})$', number)[0][0]\n",
    "        region_number = re.findall(r'^([A-ZАВЕКМНОРСТУХ]\\d{3}[A-ZАВЕКМНОРСТУХ]{2})(\\d{2,3})$', number)[0][1]\n",
    "        return auto_number, region_number \n",
    "    else:\n",
    "        return False\n",
    "\n",
    "number = input(\"Введите автомобильные номер -> \")\n",
    "if check_transport_number(number):\n",
    "    print(\"Автомобильные номер:\", check_transport_number(number)[0], \\\n",
    "          \"валиден. Регион:\", check_transport_number(number)[1])\n",
    "\n",
    "else:\n",
    "    print(\"Номер не валиден\")"
   ]
  },
  {
   "cell_type": "markdown",
   "metadata": {},
   "source": [
    "#### Задание 2\n",
    "Напишите функцию, которая будет удалять все последовательные повторы слов из заданной строки при помощи регулярных выражений."
   ]
  },
  {
   "cell_type": "code",
   "execution_count": 131,
   "metadata": {},
   "outputs": [
    {
     "name": "stdout",
     "output_type": "stream",
     "text": [
      "Напишите функцию, которая будет удалять все последовательные повторы слов из заданной строки при помощи регулярных выражений.\n"
     ]
    }
   ],
   "source": [
    "import re\n",
    "\n",
    "def delete_repeat(some_string):    \n",
    "    return re.sub(r'\\b(\\w+)( \\1\\b)+', r'\\1', some_string)\n",
    "\n",
    "some_string = 'Напишите функцию функцию, которая будет будет будет будет удалять все все все все последовательные повторы слов из из из из заданной строки строки при помощи регулярных выражений.'\n",
    "\n",
    "print(delete_repeat(some_string))"
   ]
  },
  {
   "cell_type": "markdown",
   "metadata": {},
   "source": [
    "#### Задание 3\n",
    "Напишите функцию, которая будет возвращать акроним по переданной в нее строке со словами."
   ]
  },
  {
   "cell_type": "code",
   "execution_count": 141,
   "metadata": {},
   "outputs": [
    {
     "name": "stdout",
     "output_type": "stream",
     "text": [
      "Введите строку -> Near Field Communication\n",
      "Результат: NFC\n"
     ]
    }
   ],
   "source": [
    "import re\n",
    "\n",
    "def get_acronim(some_string):\n",
    "    result_string = ''\n",
    "    for item in re.findall(r'\\b\\w(?:\\s)?', some_string.title()):\n",
    "        result_string += item\n",
    "    \n",
    "    return result_string\n",
    "    \n",
    "\n",
    "some_string = input(\"Введите строку -> \")\n",
    "\n",
    "print(\"Результат:\", get_acronim(some_string))"
   ]
  },
  {
   "cell_type": "markdown",
   "metadata": {},
   "source": [
    "#### Задание 4\n",
    "Напишите функцию, которая будет принимать на вход список email-адресов и выводить их распределение по доменным зонам."
   ]
  },
  {
   "cell_type": "code",
   "execution_count": 156,
   "metadata": {},
   "outputs": [
    {
     "name": "stdout",
     "output_type": "stream",
     "text": [
      "Результат:\n",
      "gmail.com: 2\n",
      "test.in: 1\n",
      "mail.ru: 1\n",
      "ya.ru: 2\n"
     ]
    }
   ],
   "source": [
    "import re\n",
    "\n",
    "def count_email(email_list):\n",
    "    domain_zone = []\n",
    "    for item in email_list:\n",
    "        domain_zone.append(re.findall(r'(?<=@)[a-z\\.]+', item)[0])\n",
    "    print(\"Результат:\")\n",
    "    for item in set(domain_zone):\n",
    "        print(item, \": \", domain_zone.count(item), sep='')\n",
    "        \n",
    "\n",
    "emails = ['test@gmail.com', 'xyz@test.in', 'test@ya.ru', 'xyz@mail.ru', 'xyz@ya.ru', 'xyz@gmail.com']\n",
    "\n",
    "count_email(emails)"
   ]
  },
  {
   "cell_type": "markdown",
   "metadata": {},
   "source": [
    "#### Задание 5 (необязательное)\n",
    "Напишите функцию, которая будет подсчитывать сколько слов начинается на гласные, а сколько на согласные буквы в тексте (текст может быть написан как с использованием букв кириллицы, так и латиницы)."
   ]
  },
  {
   "cell_type": "code",
   "execution_count": 188,
   "metadata": {},
   "outputs": [
    {
     "name": "stdout",
     "output_type": "stream",
     "text": [
      "Результат:\n",
      "Слов на гласные буквы: 9\n",
      "Слов на согласные буквы: 21\n"
     ]
    }
   ],
   "source": [
    "import re\n",
    "\n",
    "def count_words(some_text):\n",
    "    print(\"Слов на гласные буквы:\", len(re.findall(r'\\b[аоэеиыуёюяaeiouy]\\w*\\b', some_text.lower())))\n",
    "    print(\"Слов на согласные буквы:\", len(re.findall(r'\\b[BCDFGHJKLMNPQRSTVWXZБВГДЖЗЙКЛМНПРСТФХЦЧШЩ]\\w*\\b', some_text.title())))\n",
    "\n",
    "some_text = 'Эталонной реализацией Python является интерпретатор CPython, поддерживающий большинство активно используемых платформ. Он распространяется под свободной лицензией Python Software Foundation License, позволяющей использовать его без ограничений в любых приложениях, включая проприетарные.'\n",
    "\n",
    "print(\"Результат:\")\n",
    "count_words(some_text)"
   ]
  },
  {
   "cell_type": "markdown",
   "metadata": {},
   "source": [
    "#### Задание 6 (необязательное)\n",
    "Напишите функцию, которая будет проверять номер сотового телефона на валидность (только для российского формата), если он валиден, то переводить его в формат:\n",
    "+7-xxx-xxx-xx-xx"
   ]
  },
  {
   "cell_type": "code",
   "execution_count": 259,
   "metadata": {},
   "outputs": [
    {
     "name": "stdout",
     "output_type": "stream",
     "text": [
      "Введите номер телефона -> 8(955)555-55-55\n",
      "Результат:\n",
      "+7-955-555-55-55\n"
     ]
    }
   ],
   "source": [
    "import re\n",
    "\n",
    "def check_phone_number(number):\n",
    "    if re.findall(r'^(\\+?)(7|8)(\\s|-|\\(|\\s\\()(\\d{3})(\\s|-|\\)\\s?)(\\d{3})(\\s|-)(\\d{2})(\\s|-)(\\d{2})$', number):\n",
    "        return re.sub(r'^(\\+?)(7|8)(\\s|-|\\(|\\s\\()(\\d{3})(\\s|-|\\)\\s?)(\\d{3})(\\s|-)(\\d{2})(\\s|-)(\\d{2})$',\n",
    "                     r'+7-\\4-\\6-\\8-\\10', number)\n",
    "    else:\n",
    "        return \"Номер не валидный\"\n",
    "\n",
    "number = input(\"Введите номер телефона -> \")\n",
    "print(\"Результат:\")\n",
    "print(check_phone_number(number))"
   ]
  }
 ],
 "metadata": {
  "kernelspec": {
   "display_name": "Python 3",
   "language": "python",
   "name": "python3"
  },
  "language_info": {
   "codemirror_mode": {
    "name": "ipython",
    "version": 3
   },
   "file_extension": ".py",
   "mimetype": "text/x-python",
   "name": "python",
   "nbconvert_exporter": "python",
   "pygments_lexer": "ipython3",
   "version": "3.8.5"
  }
 },
 "nbformat": 4,
 "nbformat_minor": 4
}
