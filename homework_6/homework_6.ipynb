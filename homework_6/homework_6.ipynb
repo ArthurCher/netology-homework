{
 "cells": [
  {
   "cell_type": "markdown",
   "metadata": {},
   "source": [
    "### Задание 1\n",
    "Печатные газеты использовали свой формат дат для каждого выпуска. Для каждой газеты из списка напишите формат указанной даты для перевода в объект datetime:\n",
    "* The Moscow Times - Wednesday, October 2, 2002\n",
    "* The Guardian - Friday, 11.10.13\n",
    "* Daily News - Thursday, 18 August 1977"
   ]
  },
  {
   "cell_type": "code",
   "execution_count": 13,
   "metadata": {},
   "outputs": [
    {
     "name": "stdout",
     "output_type": "stream",
     "text": [
      "2002-10-02 00:00:00\n",
      "2013-10-11 00:00:00\n",
      "1977-08-18 00:00:00\n"
     ]
    }
   ],
   "source": [
    "# Даты каждой газеты поместил в файл newspapers.txt и брал от туда\n",
    "# Показалось что так будет более универсально, но похоже не особо\n",
    "\n",
    "from datetime import datetime as dt\n",
    "\n",
    "\n",
    "newspapers = {}\n",
    "\n",
    "with open('newspapers.txt', 'r') as data_file:\n",
    "    for line in data_file:\n",
    "        newspapers[line.strip().split(' - ')[0]] = line.strip().split(' - ')[1]\n",
    "\n",
    "the_moscow_times = dt.strptime(newspapers['The Moscow Times'], '%A, %B %d, %Y')\n",
    "print(the_moscow_times)\n",
    "\n",
    "the_guardian = dt.strptime(newspapers['The Guardian'], '%A, %d.%m.%y')\n",
    "print(the_guardian)\n",
    "\n",
    "daily_news = dt.strptime(newspapers['Daily News'], '%A, %d %B %Y')\n",
    "print(daily_news)\n"
   ]
  },
  {
   "cell_type": "markdown",
   "metadata": {},
   "source": [
    "### Задание 2\n",
    "Дан поток дат в формате YYYY-MM-DD, в которых встречаются некорректные значения:\\n\n",
    "stream = ['2018-04-02', '2018-02-29', '2018-19-02']\n",
    "\n",
    "Напишите функцию, которая проверяет эти даты на корректность. Т. е. для каждой даты возвращает True (дата корректна) или False (некорректная дата)."
   ]
  },
  {
   "cell_type": "code",
   "execution_count": 23,
   "metadata": {},
   "outputs": [
    {
     "name": "stdout",
     "output_type": "stream",
     "text": [
      "2018-04-02 - True\n",
      "2018-02-29 - False\n",
      "2018-19-02 - False\n"
     ]
    }
   ],
   "source": [
    "# Поток дат поместил в файл stream.txt, чтобы решение было более универсальным\n",
    "\n",
    "from datetime import datetime as dt\n",
    "\n",
    "\n",
    "def verifyDate(date):\n",
    "    try:\n",
    "        current_date = dt.strptime(date, '%Y-%m-%d')\n",
    "        return True\n",
    "    except:\n",
    "        return False\n",
    "\n",
    "    \n",
    "with open('stream.txt', 'r') as data_file:\n",
    "    stream = data_file.read().strip().split(', ')\n",
    "\n",
    "for date in stream:\n",
    "    print(date, '-', verifyDate(date))"
   ]
  },
  {
   "cell_type": "markdown",
   "metadata": {},
   "source": [
    "### Задание 3\n",
    "Напишите функцию date_range, которая возвращает список дат за период от start_date до end_date. Даты должны вводиться в формате YYYY-MM-DD. В случае неверного формата или при start_date > end_date должен возвращаться пустой список."
   ]
  },
  {
   "cell_type": "code",
   "execution_count": 27,
   "metadata": {},
   "outputs": [
    {
     "name": "stdout",
     "output_type": "stream",
     "text": [
      "Введите стартовую дату в формате YYYY-MM-DD - > 2020-01-01\n",
      "Введите конечную дату в YYYY-MM-DD - > 2019-12-01\n",
      "Стартовая дата больше конечной\n",
      "[]\n"
     ]
    }
   ],
   "source": [
    "from datetime import timedelta\n",
    "from datetime import datetime as dt\n",
    "\n",
    "\n",
    "def date_range(start_date, end_date):\n",
    "    date_list = []\n",
    "    try:\n",
    "        cur_start_date = dt.strptime(start_date, '%Y-%m-%d')\n",
    "        cur_end_date = dt.strptime(end_date, '%Y-%m-%d')\n",
    "    \n",
    "        if cur_start_date < cur_end_date:\n",
    "            current_date = cur_start_date\n",
    "            while current_date <= cur_end_date:\n",
    "                date_list.append(current_date.strftime('%Y-%m-%d'))\n",
    "                \n",
    "                current_date += timedelta(days=1)\n",
    "            \n",
    "            return date_list\n",
    "        \n",
    "        else:\n",
    "            print(\"Стартовая дата больше конечной\")\n",
    "            return date_list\n",
    "    \n",
    "    except:\n",
    "        print(\"Неверный формат даты\")\n",
    "        return date_list\n",
    "    \n",
    "start_date = input(\"Введите стартовую дату в формате YYYY-MM-DD - > \")\n",
    "end_date = input(\"Введите конечную дату в YYYY-MM-DD - > \")\n",
    "\n",
    "print(date_range(start_date, end_date))"
   ]
  },
  {
   "cell_type": "markdown",
   "metadata": {},
   "source": [
    "### Задание 4 (бонусное)\n",
    "Ваш коллега прислал код функции:\n",
    "\n",
    "    DEFAULT_USER_COUNT = 3\n",
    "\n",
    "    def delete_and_return_last_user(region, default_list=[‘A100’, ‘A101’, ‘A102’]):\n",
    "    \"\"\"\"\n",
    "    Удаляет из списка default_list последнего пользователя\n",
    "    и возвращает ID нового последнего пользователя.\n",
    "    \"\"\"\"\n",
    "    element_to_delete = default_list[-1]\n",
    "    default_list.remove(element_to_delete)\n",
    "    \n",
    "    return default_list[DEFAULT_USER_COUNT-2]\n",
    "    \n",
    "При однократном вызове этой функции все работает корректно:\n",
    "    \n",
    "    delete_and_return_last_user(1)\n",
    "    'A101'\n",
    "\n",
    "Однако, при повторном вызове получается ошибка IndexError: list index out of range.\n",
    "#### Задание:\n",
    "\n",
    "* Что значит ошибка list index out of range?\n",
    "* Почему при первом запуске функция работает корректно, а при втором - нет?\n"
   ]
  },
  {
   "cell_type": "markdown",
   "metadata": {},
   "source": [
    "### Ответы бонусного задания\n",
    "* list index out of range - означает что элемента с таким индексом нет в списке.\n",
    "* Ошибка при повторном обращении возникает вот тут return default_list[DEFAULT_USER_COUNT-2] - т.е. функция всегда возвращает 2 элемент списка. При первом вызове функции он есть, потому что удаляется последний третий и получается список длиной в 2 элемента. А вот при втором - длина списка сокращается до 1 элемента, фукнция по прежнему пытается вернуть второй элемент, его нет - возникает ошибка"
   ]
  }
 ],
 "metadata": {
  "kernelspec": {
   "display_name": "Python 3",
   "language": "python",
   "name": "python3"
  },
  "language_info": {
   "codemirror_mode": {
    "name": "ipython",
    "version": 3
   },
   "file_extension": ".py",
   "mimetype": "text/x-python",
   "name": "python",
   "nbconvert_exporter": "python",
   "pygments_lexer": "ipython3",
   "version": "3.8.5"
  }
 },
 "nbformat": 4,
 "nbformat_minor": 4
}
