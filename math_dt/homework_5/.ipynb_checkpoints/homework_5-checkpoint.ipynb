{
 "cells": [
  {
   "cell_type": "markdown",
   "metadata": {},
   "source": [
    "# Домашнее задание \"Производная функции нескольких аргументов\"."
   ]
  },
  {
   "cell_type": "code",
   "execution_count": 1,
   "metadata": {},
   "outputs": [],
   "source": [
    "import numpy as np\n",
    "from scipy.optimize import approx_fprime"
   ]
  },
  {
   "cell_type": "markdown",
   "metadata": {},
   "source": [
    "### Уровень 0:\n",
    "\n",
    "Посчитайте частные производные функций:\n",
    "\n",
    "1) $f(x,y)=2x^2y^3 + 1/x + y^2x + 7$, а для этой функции также градиент в точке $(1,2)$\n",
    "\n",
    "2) $f(x,y)=x^2y - sin(xy) + cos(x^2) + 6y$\n"
   ]
  },
  {
   "cell_type": "code",
   "execution_count": 2,
   "metadata": {},
   "outputs": [],
   "source": [
    "from sympy import * \n",
    "import numpy as np"
   ]
  },
  {
   "cell_type": "code",
   "execution_count": 27,
   "metadata": {},
   "outputs": [
    {
     "name": "stdout",
     "output_type": "stream",
     "text": [
      "Частная производная по x: 4*x*y**3 + y**2 - 1/x**2\n",
      "Частная производная по y: 6*x**2*y**2 + 2*x*y\n"
     ]
    }
   ],
   "source": [
    "# Частные производные первой функции\n",
    "\n",
    "x, y = symbols('x y')\n",
    "fxy = 2*x**2*y**3+1/x+y**2*x+7\n",
    "\n",
    "dx_fxy = diff(fxy, x)\n",
    "print(\"Частная производная по x: {}\".format(dx_fxy))\n",
    "\n",
    "dy_fxy = diff(fxy, y)\n",
    "print(\"Частная производная по y: {}\".format(dy_fxy))\n"
   ]
  },
  {
   "cell_type": "code",
   "execution_count": 31,
   "metadata": {},
   "outputs": [
    {
     "name": "stdout",
     "output_type": "stream",
     "text": [
      "Значение градиента в точке (1,2) -> [35.00000024 28.00000024]\n"
     ]
    }
   ],
   "source": [
    "# Вычисляем градиент в точки (1, 2)\n",
    "# Если я правильно понял, то нужно функцию переписать в другом виде\n",
    "# Представив ее как функцию python, указав отдельно коэффициенты и передав переменные в массиве\n",
    "\n",
    "def fx(x, c0, c1):\n",
    "    return c0*x[0]**2*x[1]**3+1/x[0]+x[1]**2*x[0]+c1\n",
    "\n",
    "x = np.array([1, 2])\n",
    "c0, c1 = (2, 7)\n",
    "eps=np.sqrt(np.finfo(float).eps)\n",
    "\n",
    "print(\"Значение градиента в точке (1, 2) ->\", approx_fprime(x, fx, [eps, eps], c0, c1))\n"
   ]
  },
  {
   "cell_type": "code",
   "execution_count": 33,
   "metadata": {},
   "outputs": [
    {
     "name": "stdout",
     "output_type": "stream",
     "text": [
      "Частная производная по x: 2*x*y - 2*x*sin(x**2) - y*cos(x*y)\n",
      "Частная производная по y: x**2 - x*cos(x*y) + 6\n"
     ]
    }
   ],
   "source": [
    "# Частные производные второй функции\n",
    "\n",
    "x, y = symbols('x y')\n",
    "fxy = x**2*y-sin(x*y)+cos(x**2)+6*y\n",
    "\n",
    "dx_fxy = diff(fxy, x)\n",
    "print(\"Частная производная по x: {}\".format(dx_fxy))\n",
    "\n",
    "dy_fxy = diff(fxy, y)\n",
    "print(\"Частная производная по y: {}\".format(dy_fxy))"
   ]
  },
  {
   "cell_type": "markdown",
   "metadata": {},
   "source": [
    "### Уровень 1:\n",
    "Градиентный спуск своими руками:"
   ]
  },
  {
   "cell_type": "code",
   "execution_count": 34,
   "metadata": {},
   "outputs": [],
   "source": [
    "def f(x):\n",
    "    return (x[0]**2) + (x[1]**2)"
   ]
  },
  {
   "cell_type": "code",
   "execution_count": 59,
   "metadata": {},
   "outputs": [],
   "source": [
    "x = np.array([100, 200]) # На сколько я понял, это начальная координата\n",
    "learning_rate = 0.1 # На сколько я понял, learning_rate - это есть шаг градиентного спука\n",
    "eps=np.sqrt(np.finfo(float).eps)"
   ]
  },
  {
   "cell_type": "code",
   "execution_count": 58,
   "metadata": {},
   "outputs": [],
   "source": [
    "for i in range(100):\n",
    "    # Calculate gradient\n",
    "    grad = approx_fprime(x, f, [eps, eps]) # Your code here (функция для вычисления градиента есть в лекционном ноутбуке)\n",
    "    \n",
    "    # Update x with gradient\n",
    "    \n",
    "    # Если я правильно понял, то тут нужно подставить формулу по изменению начальной координаты\n",
    "    # т.е. новый x равен из предыдущего x вычесть шаг спуска умноженный на градиент, полученным при предыдущем x\n",
    "    # я так и сделал\n",
    "    x = x - learning_rate*grad # Your code here (смотри слайд презентации про градиентный спуск)\n",
    "    "
   ]
  },
  {
   "cell_type": "code",
   "execution_count": 57,
   "metadata": {},
   "outputs": [
    {
     "name": "stdout",
     "output_type": "stream",
     "text": [
      "Минимум достигается в:  [1.29197811e-08 3.32901401e-08]\n",
      "Значение функции в минимуме:  1.2751541739575584e-15\n"
     ]
    }
   ],
   "source": [
    "print(\"Минимум достигается в: \", x)\n",
    "print(\"Значение функции в минимуме: \", f(x))\n"
   ]
  },
  {
   "cell_type": "markdown",
   "metadata": {},
   "source": [
    "Проверка с помощью встроенной функции numpy:"
   ]
  },
  {
   "cell_type": "code",
   "execution_count": 61,
   "metadata": {},
   "outputs": [
    {
     "name": "stdout",
     "output_type": "stream",
     "text": [
      "Optimization terminated successfully.\n",
      "         Current function value: 0.000000\n",
      "         Iterations: 85\n",
      "         Function evaluations: 164\n"
     ]
    },
    {
     "data": {
      "text/plain": [
       " final_simplex: (array([[ 3.31391559e-09, -1.82888492e-09],\n",
       "       [-3.91522747e-09, -3.79451217e-09],\n",
       "       [-4.97134432e-09,  7.91645290e-09]]), array([1.43268566e-17, 2.97273287e-17, 8.73844908e-17]))\n",
       "           fun: 1.4326856592347756e-17\n",
       "       message: 'Optimization terminated successfully.'\n",
       "          nfev: 164\n",
       "           nit: 85\n",
       "        status: 0\n",
       "       success: True\n",
       "             x: array([ 3.31391559e-09, -1.82888492e-09])"
      ]
     },
     "execution_count": 61,
     "metadata": {},
     "output_type": "execute_result"
    }
   ],
   "source": [
    "# Не совсем понял, как проверить встроенной функцией numpy. Если про функцию numpy.gradient\n",
    "# То как я понял ее - также итеративно в цикле нужно вызывать\n",
    "# Я решил проверить через функцию minimize (к тому же она была в конспекте и доп материалах)\n",
    "\n",
    "from scipy.optimize import minimize\n",
    "\n",
    "x0 = np.array([100, 200])\n",
    "res = minimize(f, x0, method='nelder-mead', options={'xtol': 1e-8, 'disp': True})\n",
    "res"
   ]
  },
  {
   "cell_type": "markdown",
   "metadata": {},
   "source": [
    "#### Выводы:\n",
    "Значение минимума функции близки с реальным минимумом функции - 0\\\n",
    "Координаты правда мне кажется весьма отличаются... Поэтому неуверен что все правильно понял и сделал"
   ]
  }
 ],
 "metadata": {
  "hide_input": false,
  "kernelspec": {
   "display_name": "Python 3",
   "language": "python",
   "name": "python3"
  },
  "language_info": {
   "codemirror_mode": {
    "name": "ipython",
    "version": 3
   },
   "file_extension": ".py",
   "mimetype": "text/x-python",
   "name": "python",
   "nbconvert_exporter": "python",
   "pygments_lexer": "ipython3",
   "version": "3.8.5"
  }
 },
 "nbformat": 4,
 "nbformat_minor": 4
}
