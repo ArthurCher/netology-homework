{
 "cells": [
  {
   "cell_type": "markdown",
   "metadata": {},
   "source": [
    "# Домашнее задание \"Теория вероятности. Дискретные Случайные Величины\"."
   ]
  },
  {
   "cell_type": "markdown",
   "metadata": {},
   "source": [
    "### Уровень 0:\n",
    "\n",
    "    Задание 1:\n",
    "\n",
    "Монетку подбрасывают 15 раз, найдите вероятность выпадения простого числа орлов."
   ]
  },
  {
   "cell_type": "code",
   "execution_count": 13,
   "metadata": {},
   "outputs": [
    {
     "name": "stdout",
     "output_type": "stream",
     "text": [
      "Вероятность выпадения простого числа орлов -> 0.3499755859375\n"
     ]
    }
   ],
   "source": [
    "# Получается орел теоритически может выпасть от 0 до 15 раз. В этом диапазоне выбрать простые числа.\n",
    "# Посчитать с какой вероятностью орлы выпадут такое количество раз - что это число должно быть простым\n",
    "\n",
    "import math\n",
    "\n",
    "def simpleNunmber(number): # Функция для получения списка простых чисел\n",
    "    simple_num_list = []\n",
    "    for num in range(2, number+1):\n",
    "        step = 2\n",
    "        while num % step != 0:\n",
    "            step += 1\n",
    "        if num == step:\n",
    "            simple_num_list.append(num)\n",
    "    \n",
    "    return simple_num_list\n",
    "\n",
    "total = 15 # количество подкидываний\n",
    "p = 0.5 # вероятность выпадения орла при каждом подкидывании\n",
    "total_p = 0 # вероятность выпадения простого числа орлов\n",
    "\n",
    "# В цикле перебираем простые числа и считаем вероятность (по формуле из лекции) что орлы выпадут такое количество раз \n",
    "for success in simpleNunmber(total):\n",
    "    c = (math.factorial(total))/(math.factorial(success)*(math.factorial(total - success)))\n",
    "    item_p = c*p**success*(1-p)**(total-success)\n",
    "    total_p += item_p\n",
    "\n",
    "print(\"Вероятность выпадения простого числа орлов ->\", total_p)\n"
   ]
  },
  {
   "cell_type": "markdown",
   "metadata": {},
   "source": [
    "\n",
    "    Задание 2:\n",
    "\n",
    "Создайте свою дискретную случайную величину с не менее, чем 10 значениями. Просемплируйте 1000 случайных значений, постройте гистограмму плотности распределения по выборке, посчитайте среднее, дисперсию и медиану.\n"
   ]
  },
  {
   "cell_type": "code",
   "execution_count": 35,
   "metadata": {},
   "outputs": [
    {
     "data": {
      "image/png": "[encoded data removed]",
      "text/plain": [
       "<Figure size 432x288 with 1 Axes>"
      ]
     },
     "metadata": {
      "needs_background": "light"
     },
     "output_type": "display_data"
    },
    {
     "name": "stdout",
     "output_type": "stream",
     "text": [
      "Среднее значение выборки -> 5.659\n",
      "Дисперсия выборки 8.276719000000002\n",
      "Медиана выборки 6.0\n"
     ]
    }
   ],
   "source": [
    "import numpy as np\n",
    "import matplotlib.pyplot as plt\n",
    "\n",
    "x = np.random.randint(1, 10, 10) # случайная величина\n",
    "sempl_list = []\n",
    "\n",
    "# Делаем 1000 случайных выборок из этой случаной величины\n",
    "for item in range(0, 1000):\n",
    "    sempl_list.append(np.random.choice(x))  \n",
    "    \n",
    "plt.figure()\n",
    "plt.hist(sempl_list, bins=10)\n",
    "plt.show()\n",
    "\n",
    "print(\"Среднее значение выборки ->\", np.mean(sempl_list))\n",
    "print(\"Дисперсия выборки\", np.var(sempl_list))\n",
    "print(\"Медиана выборки\", np.median(sempl_list))\n"
   ]
  },
  {
   "cell_type": "markdown",
   "metadata": {},
   "source": [
    "### Уровень 1:\n",
    "\n",
    "    Задание 3:\n",
    "\n",
    "Пусть брошены 3 уравновешенные монеты.\n",
    "\n",
    "Рассмотрим 3 события:\n",
    "\n",
    "A1 - монеты 1 и 2 упали одной и той же стороной;\n",
    "\n",
    "A2 - монеты 2 и 3 упали одной и той же стороной;\n",
    "\n",
    "A3 - монеты 1 и 3 упали одной и той же стороной.\n",
    "\n",
    "Покажите, почему эти 3 события (A1, A2, A3) являются попарно независимыми, но не являются независимыми в совокупности.\n"
   ]
  },
  {
   "cell_type": "code",
   "execution_count": 45,
   "metadata": {},
   "outputs": [
    {
     "name": "stdout",
     "output_type": "stream",
     "text": [
      "События попарно независимы\n",
      "События не являются независимыми в совокупности\n"
     ]
    }
   ],
   "source": [
    "pA1 = 0.5 # Вероятность наступления события А1\n",
    "pA2 = 0.5 # Вероятность наступления события А2\n",
    "pA3 = 0.5 # Вероятность наступления события А2\n",
    "\n",
    "pA1A2 = 0.25 # Вероятность наступления события А1 и А2 одновременно \n",
    "pA1A3 = 0.25 # Вероятность наступления события А1 и А3 одновременно\n",
    "pA2A3 = 0.25 # Вероятность наступления события А2 и А3 одновременно\n",
    "# В обратные стороны будет тоже самое - поэтому не стал отдельно считать\n",
    "\n",
    "# Дальне считал условные вероятности\n",
    "\n",
    "pA1_A2 = pA1A2/pA2 # Вероятность А1 при наступлении А2\n",
    "pA1_A3 = pA1A3/pA3 # Вероятность А1 при наступлении А3\n",
    "\n",
    "pA2_A1 = pA1A2/pA1 # Вероятность А2 при наступлении А1\n",
    "pA2_A3 = pA2A3/pA3 # Вероятность А2 при наступлении А3\n",
    "\n",
    "pA3_A1 = pA1A3/pA1 # Вероятность А3 при наступлении А1\n",
    "pA3_A2 = pA2A3/pA2 # Вероятность А3 при наступлении А2\n",
    "\n",
    "# Проверяем: если вероятность наступления события равно вероятности наступления этого события при условии наступления другого\n",
    "# То события независимые\n",
    "# Проверяем все пары\n",
    "if pA1 == pA1_A2 and pA1 == pA1_A3 and pA2 == pA2_A1 and pA2 == pA2_A3 and pA3 == pA3_A1 and pA3 == pA3_A2:\n",
    "    print(\"События попарно независимы\")\n",
    "\n",
    "pA1A2A3 = 0.25 # Вероятность наступления всех трех событий сразу\n",
    "\n",
    "# нашел определение, что если вероятность наступления всех трех событий равно произвдению вероятностей каждого события\n",
    "# то события являются независимыми в совокупности - так и проверял\n",
    "if pA1A2A3 != pA1*pA2*pA3:\n",
    "    print(\"События не являются независимыми в совокупности\")\n",
    "    "
   ]
  },
  {
   "cell_type": "markdown",
   "metadata": {},
   "source": [
    "\n",
    "    Задание 4 (формула полной вероятности):\n",
    "\n",
    "В магазин привезли устройства с 3-х разных предприятий.\n",
    "\n",
    "Соотношение устройств следующее: 20% - продукция первого предприятия, 30% - продукция второго предприятия, 50% - продукция третьего предприятия; далее, 10% продукции первого предприятия высшего сорта, на втором предприятии - 5% и на третьем - 20% продукции высшего сорта.\n",
    "\n",
    "Найти вероятность того, что случайно купленная новая продукция окажется высшего сорта.\n"
   ]
  },
  {
   "cell_type": "code",
   "execution_count": 46,
   "metadata": {},
   "outputs": [
    {
     "name": "stdout",
     "output_type": "stream",
     "text": [
      "Вероятность купить продукцию высшего сорта -> 0.135\n"
     ]
    }
   ],
   "source": [
    "pA1 = 0.2 # Вероятность купить продукцию 1 преприятия\n",
    "pB1_A1 = 0.1 # Вероятность купить продукцию высшего сорта при условии что купили продукцию 1 предприятия\n",
    "\n",
    "pA2 = 0.3 # Вероятность купить продукцию 2 преприятия\n",
    "pB2_A2 = 0.05 # Вероятность купить продукцию высшего сорта при условии что купили продукцию 2 предприятия\n",
    "\n",
    "pA3 = 0.5 # Вероятность купить продукцию 3 преприятия\n",
    "pB3_A3 = 0.2 # Вероятность купить продукцию высшего сорта при условии что купили продукцию 3 предприятия\n",
    "\n",
    "# формула полной вероятности\n",
    "P = pB1_A1*pA1+pB2_A2*pA2+pB3_A3*pA3\n",
    "print(\"Вероятность купить продукцию высшего сорта ->\", P)"
   ]
  }
 ],
 "metadata": {
  "hide_input": false,
  "kernelspec": {
   "display_name": "Python 3",
   "language": "python",
   "name": "python3"
  },
  "language_info": {
   "codemirror_mode": {
    "name": "ipython",
    "version": 3
   },
   "file_extension": ".py",
   "mimetype": "text/x-python",
   "name": "python",
   "nbconvert_exporter": "python",
   "pygments_lexer": "ipython3",
   "version": "3.8.5"
  }
 },
 "nbformat": 4,
 "nbformat_minor": 4
}
