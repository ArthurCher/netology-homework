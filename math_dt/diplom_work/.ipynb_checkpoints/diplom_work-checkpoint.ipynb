{
 "cells": [
  {
   "cell_type": "markdown",
   "metadata": {},
   "source": [
    "# Итоговая работа."
   ]
  },
  {
   "cell_type": "code",
   "execution_count": 57,
   "metadata": {},
   "outputs": [],
   "source": [
    "import matplotlib.pyplot as plt\n",
    "import numpy as np\n",
    "\n",
    "from scipy.optimize import minimize\n",
    "%matplotlib inline"
   ]
  },
  {
   "cell_type": "markdown",
   "metadata": {},
   "source": [
    "### Задание 1\n",
    "\n",
    "Дана матрица рейтингов фильмов (строки - пользователи (10 человек), столбцы - фильмы (15 фильмов))"
   ]
  },
  {
   "cell_type": "code",
   "execution_count": 58,
   "metadata": {},
   "outputs": [],
   "source": [
    "raitings = np.array([[ 4,  4,  9,  4,  1,  6, 10,  7,  9,  6,  9,  2,  8,  6,  6],\n",
    "                     [ 9,  2,  5, 10,  7,  8, 10,  5,  6,  2,  1,  6,  8,  9,  7],\n",
    "                     [ 1,  6,  8,  8,  4,  9,  3,  8, 10,  5,  2,  6,  8,  1,  6],\n",
    "                     [ 6,  1,  9,  7,  7,  9,  2,  3,  5,  1,  6,  6,  3,  2,  7],\n",
    "                     [ 3,  7,  3,  5,  7,  9,  9,  6,  2,  9,  1,  2,  8, 10,  6],\n",
    "                     [ 8,  3,  7,  3,  8,  6,  1,  8,  8,  6,  1,  9,  4, 10,  1],\n",
    "                     [ 9,  8,  4,  8,  8, 10,  6,  1,  1,  2,  9,  5,  2,  7,  2],\n",
    "                     [ 4,  1,  6,  4,  3, 10,  4,  4,  2,  8,  7,  9,  3,  8,  3],\n",
    "                     [ 2,  7,  7,  6, 10,  6,  8,  9,  8,  6, 10,  1,  7, 10,  4],\n",
    "                     [ 5, 10,  8,  8,  9,  7,  2,  9,  9, 10,  8,  8,  8,  6, 10]])"
   ]
  },
  {
   "cell_type": "markdown",
   "metadata": {},
   "source": [
    "a) Необходимо найти наиболее похожего пользователя по косинусной метрике для каждого из (ответ: 10 пар вида (x, y), где y - наиболее похожий пользователь на пользователя x)."
   ]
  },
  {
   "cell_type": "code",
   "execution_count": 59,
   "metadata": {},
   "outputs": [
    {
     "name": "stdout",
     "output_type": "stream",
     "text": [
      "Для пользователя 1 самым похожим пользователем является 9\n",
      "Для пользователя 2 самым похожим пользователем является 5\n",
      "Для пользователя 3 самым похожим пользователем является 10\n",
      "Для пользователя 4 самым похожим пользователем является 10\n",
      "Для пользователя 5 самым похожим пользователем является 9\n",
      "Для пользователя 6 самым похожим пользователем является 10\n",
      "Для пользователя 7 самым похожим пользователем является 4\n",
      "Для пользователя 8 самым похожим пользователем является 6\n",
      "Для пользователя 9 самым похожим пользователем является 1\n",
      "Для пользователя 10 самым похожим пользователем является 3\n"
     ]
    }
   ],
   "source": [
    "def cosine( a, b ):\n",
    "    \"\"\"\n",
    "    Подсчет косинуса угла между векторами a, b по их координатам\n",
    "    \"\"\"\n",
    "    \n",
    "    # длины векторов\n",
    "    aLength = np.linalg.norm( a )\n",
    "    bLength = np.linalg.norm( b )\n",
    "    \n",
    "    return np.dot( a, b ) / ( aLength * bLength )\n",
    "\n",
    "id_user = 1\n",
    "\n",
    "# Итерируюсь по каждому пользователю\n",
    "for user in raitings:\n",
    "    cos_dist = 0\n",
    "    result_id = 0\n",
    "    \n",
    "    list_id_user = [1,2,3,4,5,6,7,8,9,10] # Запоминаю номера каждого пользователя\n",
    "    \n",
    "    work_matrix = np.delete(raitings, id_user-1, axis=0) # Удаляю из исходный матрице пользователя, по которому делаю проверку\n",
    "    list_id_user.pop(id_user-1) # Удаляю номер пользователя которого проверяю\n",
    "    \n",
    "    for _id, other_user in zip(list_id_user, work_matrix): # Итерируюсь по номерам пользователя и самим пользователями (тут исключены проверяемые пользователи)\n",
    "        if cos_dist < cosine(user, other_user): # Проверяю на лучшее косинусное расстояние\n",
    "            cos_dist = cosine(user, other_user) # Лучшее косинусное расстояние запоминаю\n",
    "            result_id = _id # Запоминаю номер пользователя с которым лучшее косинусное расстояние\n",
    "        \n",
    "        other_user_id += 1\n",
    "    # Для каждого пользователя вывожу номер пользователя с лучшим косинусным расстоянием\n",
    "    print(\"Для пользователя\", id_user, \"самым похожим пользователем является\", result_id)\n",
    "    \n",
    "    id_user += 1"
   ]
  },
  {
   "cell_type": "markdown",
   "metadata": {},
   "source": [
    "b) Предположим, вы захотели сжать признаковые описания пользователя с 15 фильмов, до, скажем, 5-ти признаков, как вы это сделаете?"
   ]
  },
  {
   "cell_type": "code",
   "execution_count": 60,
   "metadata": {},
   "outputs": [
    {
     "data": {
      "text/plain": [
       "array([[-5.30986101,  1.92919845, -4.93300027,  2.70188013,  5.50497886],\n",
       "       [ 2.87763403,  2.71659559,  1.40592782,  7.26325751, -4.50322291],\n",
       "       [-4.94010408, -6.68861167, -0.94550184,  3.61556661, -0.68969272],\n",
       "       [ 5.14939908, -6.28027284, -4.65978558,  1.09024004, -1.01471112],\n",
       "       [-1.37488691,  7.54357985,  4.00834369,  2.1284001 , -0.16324949],\n",
       "       [ 2.65341956, -3.77075601,  8.58430748, -1.46628319,  1.67401769],\n",
       "       [ 8.61573944,  3.78603335, -4.02721027, -4.37582577, -3.13880277],\n",
       "       [ 5.39658258, -1.0170466 ,  1.01456742, -1.89512837,  6.54883538],\n",
       "       [-5.7843488 ,  5.29857107, -1.48083611, -3.71295542,  0.21312695],\n",
       "       [-7.2835739 , -3.51729118,  1.03318766, -5.34915166, -4.43127987]])"
      ]
     },
     "execution_count": 60,
     "metadata": {},
     "output_type": "execute_result"
    }
   ],
   "source": [
    "from sklearn.decomposition import PCA\n",
    "\n",
    "pca = PCA(n_components = 5)\n",
    "XPCA_ratings = pca.fit_transform(raitings)\n",
    "XPCA_ratings"
   ]
  },
  {
   "cell_type": "markdown",
   "metadata": {},
   "source": [
    "### Задание 2\n",
    "\n",
    "Вычислите производную $tg^2(sin(x) + cos(2x+3))$ в точке $x_0=1$ (на python и на бумаге).\n"
   ]
  },
  {
   "cell_type": "code",
   "execution_count": 61,
   "metadata": {},
   "outputs": [
    {
     "name": "stdout",
     "output_type": "stream",
     "text": [
      "Первая производная : 2*(-2*sin(2*x + 3) + cos(x))*(tan(sin(x) + cos(2*x + 3))**2 + 1)*tan(sin(x) + cos(2*x + 3))\n",
      "Значение первой производной при x = 0 - >  55.3859176353379\n"
     ]
    }
   ],
   "source": [
    "from sympy import * \n",
    "\n",
    "x = symbols('x')\n",
    "\n",
    "fx = tan(sin(x)+cos(2*x+3))**2\n",
    "dfx = diff(fx, x)\n",
    "print(\"Первая производная : {}\".format(dfx))\n",
    "x0 = 1\n",
    "y0 = dfx.evalf(subs={x:x0})\n",
    "print(\"Значение первой производной при x = 0 - > \", y0)"
   ]
  },
  {
   "cell_type": "markdown",
   "metadata": {},
   "source": [
    "Решение на бумаге по ссылке https://drive.google.com/file/d/1L7ROwZhBIk7bpp-Mm1B8xgmvCGwHkFTT/view?usp=sharing \\\n",
    "Получилось с округлением 55,566 - что примерно равно тому, что получилось на python"
   ]
  },
  {
   "cell_type": "markdown",
   "metadata": {},
   "source": [
    "### Задание 3\n",
    "\n",
    "Дана функция с неизвестными параметрами a и b, вам также известны значения функции fx в точках x. Найдите оптимальные параметры a, b, минимизирующие абсолютную ошибку error.\n"
   ]
  },
  {
   "cell_type": "code",
   "execution_count": 62,
   "metadata": {},
   "outputs": [],
   "source": [
    "def f(x, a, b):\n",
    "    return np.e**a * np.sin(b*x) + x"
   ]
  },
  {
   "cell_type": "code",
   "execution_count": 63,
   "metadata": {},
   "outputs": [],
   "source": [
    "x = np.array([0.        , 0.26315789, 0.52631579, 0.78947368, 1.05263158,\n",
    "              1.31578947, 1.57894737, 1.84210526, 2.10526316, 2.36842105,\n",
    "              2.63157895, 2.89473684, 3.15789474, 3.42105263, 3.68421053,\n",
    "              3.94736842, 4.21052632, 4.47368421, 4.73684211, 5.        ])"
   ]
  },
  {
   "cell_type": "code",
   "execution_count": 64,
   "metadata": {},
   "outputs": [],
   "source": [
    "fx = np.array([  0.        , -12.01819092, -18.90968634, -17.68786571,\n",
    "                -8.7529108 ,   4.27524517,  16.06801336,  21.81250213,\n",
    "                19.22059845,   9.48411207,  -3.22273056, -13.48576488,\n",
    "               -16.91096359, -11.95866834,  -0.58630088,  12.56873816,\n",
    "                22.12489421,  24.20292139,  18.04522521,   6.33211092])\n"
   ]
  },
  {
   "cell_type": "code",
   "execution_count": 65,
   "metadata": {},
   "outputs": [
    {
     "data": {
      "image/png": "[encoded data removed]",
      "text/plain": [
       "<Figure size 432x288 with 1 Axes>"
      ]
     },
     "metadata": {
      "needs_background": "light"
     },
     "output_type": "display_data"
    }
   ],
   "source": [
    "plt.plot(x, fx)\n",
    "plt.show()"
   ]
  },
  {
   "cell_type": "code",
   "execution_count": 66,
   "metadata": {},
   "outputs": [],
   "source": [
    "def error(params):\n",
    "    return np.sum(np.abs(fx - f(x, params[0], params[1])))"
   ]
  },
  {
   "cell_type": "code",
   "execution_count": 73,
   "metadata": {},
   "outputs": [
    {
     "name": "stdout",
     "output_type": "stream",
     "text": [
      "Optimization terminated successfully.\n",
      "         Current function value: 0.000013\n",
      "         Iterations: 81\n",
      "         Function evaluations: 162\n",
      "\n",
      "Оптимальные параметры a и b -> [ 3.         21.37610416] \n",
      "\n"
     ]
    },
    {
     "data": {
      "image/png": "[encoded data removed]",
      "text/plain": [
       "<Figure size 432x288 with 1 Axes>"
      ]
     },
     "metadata": {
      "needs_background": "light"
     },
     "output_type": "display_data"
    }
   ],
   "source": [
    "params = [10, 10] # начальное приближение коэффциентов\n",
    "\n",
    "result = minimize(error, params, method='nelder-mead', options={'xtol': 1e-8, 'disp': True})\n",
    "    \n",
    "print(\"\\nОптимальные параметры a и b ->\", result.x, \"\\n\")\n",
    "\n",
    "# Требуемый график\n",
    "plt.plot(x, f(x, result.x[0], result.x[1]))\n",
    "plt.scatter(x, fx,c = 'deeppink') \n",
    "plt.show()"
   ]
  },
  {
   "cell_type": "markdown",
   "metadata": {},
   "source": [
    "### Задание 4\n",
    "\n",
    "Создайте собственную дискретную случайную величину с 20 значениями. Сгенерируйте 1000 выборок размера 50. Посчитайте среднее для каждой выборки. Постройте гистограмму распределения средних."
   ]
  },
  {
   "cell_type": "code",
   "execution_count": 39,
   "metadata": {},
   "outputs": [
    {
     "data": {
      "image/png": "[encoded data removed]",
      "text/plain": [
       "<Figure size 432x288 with 1 Axes>"
      ]
     },
     "metadata": {
      "needs_background": "light"
     },
     "output_type": "display_data"
    }
   ],
   "source": [
    "x = np.random.randint(1, 20, 20)\n",
    "\n",
    "average_list = []\n",
    "\n",
    "for selection in range(1000): # Генерация 1000 выборок\n",
    "    sempl_list = []\n",
    "    for num in range(50): # Получение выборки размера 50\n",
    "        sempl_list.append(np.random.choice(x))\n",
    "    \n",
    "    average_list.append(np.mean(sempl_list)) # Получение среднего и запись в список к остальным средним\n",
    "\n",
    "plt.figure()\n",
    "plt.hist(average_list, bins=50)\n",
    "plt.show()\n"
   ]
  },
  {
   "cell_type": "markdown",
   "metadata": {},
   "source": [
    "### Задание 5\n",
    "\n",
    "Найдите собственные значения и собственные вектора матрицы (на python и на бумаге):\n",
    "\n",
    "m = np.array([[1, 4],\\\n",
    "              [1, 1]])\\\n",
    "print(m)"
   ]
  },
  {
   "cell_type": "code",
   "execution_count": 51,
   "metadata": {},
   "outputs": [
    {
     "name": "stdout",
     "output_type": "stream",
     "text": [
      "[[1 4]\n",
      " [1 1]]\n",
      "Собственные значения:\n",
      " [ 3. -1.]\n",
      "Собственные вектора:\n",
      " [[ 0.89442719 -0.89442719]\n",
      " [ 0.4472136   0.4472136 ]]\n"
     ]
    }
   ],
   "source": [
    "m = np.array([[1, 4],\n",
    "              [1, 1]])\n",
    "print(m)\n",
    "\n",
    "\n",
    "w, v = np.linalg.eig(m)\n",
    "print('Собственные значения:\\n', w)\n",
    "print('Собственные вектора:\\n', v)"
   ]
  },
  {
   "cell_type": "markdown",
   "metadata": {},
   "source": [
    "Решение на бумаге по ссылке https://drive.google.com/file/d/1eQiYQegWExwsT020EJbMwglY1TXNT308/view?usp=sharing \\\n",
    "Собственные значения совпали. Но вот почему-то собственные вектора нет. Хотя там очень странные получились системы уравнения с бесконечным множеством решения. Собственные вектора полученные на python туда также подходят. Поэтому думаю все правильно"
   ]
  }
 ],
 "metadata": {
  "hide_input": false,
  "kernelspec": {
   "display_name": "Python 3",
   "language": "python",
   "name": "python3"
  },
  "language_info": {
   "codemirror_mode": {
    "name": "ipython",
    "version": 3
   },
   "file_extension": ".py",
   "mimetype": "text/x-python",
   "name": "python",
   "nbconvert_exporter": "python",
   "pygments_lexer": "ipython3",
   "version": "3.8.5"
  }
 },
 "nbformat": 4,
 "nbformat_minor": 4
}
