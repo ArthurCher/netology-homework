{
 "cells": [
  {
   "cell_type": "markdown",
   "metadata": {},
   "source": [
    "## Домашнее задание \"Линейная алгебра. Векторы\".¶\n",
    "\n",
    "Даны вектора x = (1,1), y = (2, 0) и z = (0,2)\n",
    "\n",
    "Надо:\n",
    "\n",
    "* Изобразить вектора на экране\n",
    "* Изобразить точку x + y + z\n",
    "* Найти угол между векторами x и y"
   ]
  },
  {
   "cell_type": "code",
   "execution_count": 1,
   "metadata": {},
   "outputs": [],
   "source": [
    "import numpy as np\n",
    "import matplotlib.pyplot as plt"
   ]
  },
  {
   "cell_type": "code",
   "execution_count": 49,
   "metadata": {},
   "outputs": [
    {
     "data": {
      "image/png": "[encoded data removed]",
      "text/plain": [
       "<Figure size 432x288 with 1 Axes>"
      ]
     },
     "metadata": {
      "needs_background": "light"
     },
     "output_type": "display_data"
    }
   ],
   "source": [
    "x = np.array([1, 1])\n",
    "y = np.array([2, 0])\n",
    "z = np.array([0, 2])\n",
    "\n",
    "sum_v = x + y + z # Сумма векторов\n",
    "\n",
    "# Выведем вектора в виде векторов\n",
    "ax = plt.axes()\n",
    "plt.ylim([-1, 4])\n",
    "plt.xlim([-1, 4])\n",
    "ax.arrow(0, 0, x[0], x[1], width=0.05, fc='blue', ec='blue')\n",
    "ax.arrow(0, 0, y[0], y[1], width=0.05, fc='green', ec='green')\n",
    "ax.arrow(0, 0, z[0], z[1], width=0.05, fc='orange', ec='orange')\n",
    "plt.plot(sum_v[0], sum_v[1], 'o') # Точка - сумма векторов\n",
    "\n",
    "ax.annotate('('+str(x[0])+', '+str(x[1])+')', xy=(x[0], x[1]), xytext=(x[0]+0.1, x[1]+0.3))\n",
    "ax.annotate('('+str(y[0])+', '+str(y[1])+')', xy=(y[0], y[1]), xytext=(y[0]+0.1, y[1]+0.3))\n",
    "ax.annotate('('+str(z[0])+', '+str(z[1])+')', xy=(z[0], z[1]), xytext=(z[0]+0.1, z[1]+0.3))\n",
    "ax.annotate('('+str(sum_v[0])+', '+str(sum_v[1])+')', xy=(sum_v[0], z[1]), xytext=(sum_v[0]+0.1, sum_v[1]+0.3))\n",
    "plt.grid()"
   ]
  },
  {
   "cell_type": "code",
   "execution_count": 51,
   "metadata": {},
   "outputs": [
    {
     "name": "stdout",
     "output_type": "stream",
     "text": [
      "Угод между векторами x и y -> 45 градусов\n"
     ]
    }
   ],
   "source": [
    "cos = np.dot(x, y)/(np.linalg.norm(x)*np.linalg.norm(y))\n",
    "ugol_rad = np.arccos(cos)\n",
    "ugol = np.rad2deg(ugol_rad)\n",
    "print('Угод между векторами x и y ->', round(ugol), 'градусов')"
   ]
  }
 ],
 "metadata": {
  "hide_input": false,
  "kernelspec": {
   "display_name": "Python 3",
   "language": "python",
   "name": "python3"
  },
  "language_info": {
   "codemirror_mode": {
    "name": "ipython",
    "version": 3
   },
   "file_extension": ".py",
   "mimetype": "text/x-python",
   "name": "python",
   "nbconvert_exporter": "python",
   "pygments_lexer": "ipython3",
   "version": "3.8.5"
  }
 },
 "nbformat": 4,
 "nbformat_minor": 4
}
