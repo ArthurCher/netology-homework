{
 "cells": [
  {
   "cell_type": "markdown",
   "id": "7d9fc040",
   "metadata": {},
   "source": [
    "# Домашнее задание \"Продвинутая линейная алгебра\"."
   ]
  },
  {
   "cell_type": "code",
   "execution_count": 20,
   "id": "7c0b8b87",
   "metadata": {},
   "outputs": [],
   "source": [
    "import numpy as np\n",
    "import matplotlib.pyplot as plt"
   ]
  },
  {
   "cell_type": "markdown",
   "id": "bc6ae0d3",
   "metadata": {},
   "source": [
    "\n",
    "### Уровень 0:\n",
    "Придумайте матрицы, которые обладают следующими свойствами:\n",
    "\n",
    "a) Диагональная, ортогональная, но не единичная(!)\n",
    "\n",
    "b) Верхнетреугольная, ортогональная\n",
    "\n",
    "c) Нижнетреугольная, ортогональная\n",
    "\n",
    "d) Матрица, у которой определитель = 1, и все элементы не равны 0\n",
    "\n",
    "P.S. Во всех пунктах ответом должна быть ненулевая матрица размерности не менее 2!"
   ]
  },
  {
   "cell_type": "code",
   "execution_count": 28,
   "id": "df3f69d4",
   "metadata": {},
   "outputs": [
    {
     "name": "stdout",
     "output_type": "stream",
     "text": [
      "Диагональная, ортогональная, но не единичная\n",
      "[[ 1  0  0]\n",
      " [ 0  1  0]\n",
      " [ 0  0 -1]]\n"
     ]
    }
   ],
   "source": [
    "# С фантазией у меня плохо, поэтому решил все сделать в цикле\n",
    "\n",
    "uno_matrix = np.array([[1, 0, 0],\n",
    "                       [0, 1, 0],\n",
    "                       [0, 0, 1]])\n",
    "\n",
    "while True:\n",
    "    some_matrix = np.diag(np.random.randint(-9, 9, 3))\n",
    "    some_matrix_T = some_matrix.transpose()\n",
    "    ver_matrix = some_matrix.dot(some_matrix_T)\n",
    "    if np.array_equal(ver_matrix, uno_matrix) and np.array_equal(some_matrix, uno_matrix) != 3: # Проверка на ортогональность и что сгенерирована не единичная матрица\n",
    "        break\n",
    "\n",
    "print('Диагональная, ортогональная, но не единичная')\n",
    "print(some_matrix)\n"
   ]
  },
  {
   "cell_type": "code",
   "execution_count": null,
   "id": "75bc32a9",
   "metadata": {},
   "outputs": [],
   "source": [
    "# Здесь тоже не получилось придумать, чтобы была одновременно и верхнетреугольная и ортогональная\n",
    "# Попробовал сгенерировать в цикле - то тоже не получается цикл виснет и не выходит\n",
    "\n",
    "uno_matrix = np.array([[1, 0],\n",
    "                       [0, 1]])\n",
    "\n",
    "while True:\n",
    "    some_matrix = np.array([np.random.randint(1, 9, 2),\n",
    "                            np.random.randint(-9, 9, 2)])\n",
    "    some_matrix = np.triu(some_matrix)\n",
    "    some_matrix_T = some_matrix.transpose()\n",
    "    ver_matrix = some_matrix.dot(some_matrix_T)\n",
    "    if np.array_equal(ver_matrix, uno_matrix):\n",
    "        break\n",
    "\n",
    "print('Верхнетреугольная, ортогональная матрица')\n",
    "print(some_matrix)"
   ]
  },
  {
   "cell_type": "code",
   "execution_count": null,
   "id": "3dbd5091",
   "metadata": {},
   "outputs": [],
   "source": [
    "# Здесь тоже не получилось придумать, чтобы была одновременно и нижнетреугольная и ортогональная\n",
    "# Попробовал сгенерировать в цикле - то тоже не получается цикл виснет и не выходит\n",
    "\n",
    "uno_matrix = np.array([[1, 0, 0],\n",
    "                       [0, 1, 0],\n",
    "                       [0, 0, 1]])\n",
    "\n",
    "while True:\n",
    "    some_matrix = np.array([np.random.randint(1, 99, 3),\n",
    "                            np.random.randint(1, 99, 3),\n",
    "                            np.random.randint(1, 99, 3)])\n",
    "    some_matrix = np.tril(some_matrix)\n",
    "    some_matrix_T = some_matrix.transpose()\n",
    "    ver_matrix = some_matrix.dot(some_matrix_T)\n",
    "    if np.array_equal(ver_matrix, uno_matrix):\n",
    "        break\n",
    "\n",
    "print('Нижнетреугольная, ортогональная матрица')\n",
    "print(some_matrix)"
   ]
  },
  {
   "cell_type": "code",
   "execution_count": 29,
   "id": "1452c496",
   "metadata": {},
   "outputs": [
    {
     "name": "stdout",
     "output_type": "stream",
     "text": [
      "Матрица, у которой определитель = 1, и все элементы не равны 0\n",
      "[[-1 -1 -2]\n",
      " [-1  1  1]\n",
      " [ 2 -3 -4]]\n"
     ]
    }
   ],
   "source": [
    "# Опять же, решил сгенерировать матрицу и проверить на необходимые условия - нашлась\n",
    "\n",
    "zero_matrix = np.array([[0, 0, 0],\n",
    "                       [0, 0, 0],\n",
    "                       [0, 0, 0]])\n",
    "\n",
    "while True:\n",
    "    some_matrix = np.array([np.random.randint(-9, 9, 3),\n",
    "                            np.random.randint(-9, 9, 3),\n",
    "                            np.random.randint(-9, 9, 3)])\n",
    "\n",
    "    if some_matrix.any() != zero_matrix.any() and np.linalg.det(some_matrix) == 1:\n",
    "        break\n",
    "\n",
    "print('Матрица, у которой определитель = 1, и все элементы не равны 0')\n",
    "print(some_matrix)"
   ]
  },
  {
   "cell_type": "markdown",
   "id": "817892c0",
   "metadata": {},
   "source": [
    "Найдите собственные значения и собственные вектора матриц:\n",
    "\n",
    "m = np.array([[2, 2],\n",
    "              [1, 3]])\\\n",
    "print(m)"
   ]
  },
  {
   "cell_type": "code",
   "execution_count": 41,
   "id": "543cc6bf",
   "metadata": {},
   "outputs": [
    {
     "name": "stdout",
     "output_type": "stream",
     "text": [
      "Собственные значения:\n",
      " [1. 4.]\n",
      "Собственные вектора:\n",
      " [[-0.89442719 -0.70710678]\n",
      " [ 0.4472136  -0.70710678]]\n"
     ]
    }
   ],
   "source": [
    "m = np.array([[2, 2], \n",
    "              [1, 3]])\n",
    "\n",
    "w, v = np.linalg.eig(m)\n",
    "print('Собственные значения:\\n', w)\n",
    "print('Собственные вектора:\\n', v)"
   ]
  },
  {
   "cell_type": "markdown",
   "id": "85122380",
   "metadata": {},
   "source": [
    "### Уровень 1:\n",
    "\n",
    "Найдите спектральное разложение матрицы:\n",
    "\n",
    "m = np.array([[1, 2],\n",
    "              [2,3]])\\\n",
    "print(m)"
   ]
  },
  {
   "cell_type": "code",
   "execution_count": 35,
   "id": "0a403e8d",
   "metadata": {},
   "outputs": [
    {
     "name": "stdout",
     "output_type": "stream",
     "text": [
      "[[-0.85065081 -0.52573111]\n",
      " [ 0.52573111 -0.85065081]]\n",
      "[[-0.23606798  0.        ]\n",
      " [ 0.          4.23606798]]\n",
      "[[-0.85065081  0.52573111]\n",
      " [-0.52573111 -0.85065081]]\n",
      "Проверка:\n",
      " [[1. 2.]\n",
      " [2. 3.]]\n"
     ]
    }
   ],
   "source": [
    "# Если я правильно понял, то спектарльное разложение матрицы A это произвдение марицы:\n",
    "# V с собственными векторами\n",
    "# L - диагональная матрица с собственными значениями\n",
    "# обратной матрицы V\n",
    "\n",
    "m = np.array([[1, 2], \n",
    "              [2,3]])\n",
    "\n",
    "w, v = np.linalg.eig(m) # Находим собственные значения и вектора\n",
    "v_T = np.linalg.inv(v) # получается обратную матрицу матрице собственных векторов\n",
    "L = np.diag(w) # Диагональная матрица с собственными значениями\n",
    "print(v)\n",
    "print(L)\n",
    "print(v_T)\n",
    "\n",
    "print('Проверка:\\n', v @ L @ v_T)"
   ]
  },
  {
   "cell_type": "markdown",
   "id": "beb1de3f",
   "metadata": {},
   "source": [
    "Постройте зависимость качества восстановления рукописных цифр (MNIST) в зависимости от различного количества компонент PCA. В качестве метрики различия предлагаю использовать MSE.*"
   ]
  },
  {
   "cell_type": "code",
   "execution_count": 36,
   "id": "64158392",
   "metadata": {},
   "outputs": [
    {
     "name": "stdout",
     "output_type": "stream",
     "text": [
      "(1797, 64)\n"
     ]
    }
   ],
   "source": [
    "# Подгружаем датасет и необходимые классы и методы\n",
    "\n",
    "from sklearn.datasets import load_digits\n",
    "from sklearn.decomposition import PCA\n",
    "from sklearn.metrics import mean_squared_error\n",
    "\n",
    "digits = load_digits()\n",
    "print(digits.data.shape)\n"
   ]
  },
  {
   "cell_type": "code",
   "execution_count": 18,
   "id": "187adefa",
   "metadata": {},
   "outputs": [
    {
     "data": {
      "image/png": "[encoded data removed]",
      "text/plain": [
       "<Figure size 432x288 with 1 Axes>"
      ]
     },
     "metadata": {
      "needs_background": "light"
     },
     "output_type": "display_data"
    }
   ],
   "source": [
    "# Решил сделать так: в цикле перебрать компоненты (до которых будем уменьшать размерность) начиная с 60 до 10 с шагом 10\n",
    "# На каждому шагу уменьшаю размерность до нужного количества компонент, восстанавливаю обратно и замерсяю ошибку\n",
    "# Все пишу в соответствующие списки\n",
    "# И потом строю график\n",
    "# Получается чем меньше компонент мы указываем - тем больше и ошибка. Что собственно и логично.\n",
    "\n",
    "components = []\n",
    "errors = []\n",
    "\n",
    "for component in range(60, 9, -10):\n",
    "    pca = PCA(n_components = component)\n",
    "    XPCAreduced = pca.fit_transform(digits.data)\n",
    "    \n",
    "    Xrecover = pca.inverse_transform(XPCAreduced)\n",
    "    \n",
    "    error = mean_squared_error(digits.data, Xrecover)\n",
    "    \n",
    "    components.append(component)\n",
    "    errors.append(error)\n",
    "    \n",
    "plt.figure()\n",
    "plt.plot(components, errors, marker='p')\n",
    "plt.show()"
   ]
  }
 ],
 "metadata": {
  "kernelspec": {
   "display_name": "Python 3",
   "language": "python",
   "name": "python3"
  },
  "language_info": {
   "codemirror_mode": {
    "name": "ipython",
    "version": 3
   },
   "file_extension": ".py",
   "mimetype": "text/x-python",
   "name": "python",
   "nbconvert_exporter": "python",
   "pygments_lexer": "ipython3",
   "version": "3.8.8"
  }
 },
 "nbformat": 4,
 "nbformat_minor": 5
}
