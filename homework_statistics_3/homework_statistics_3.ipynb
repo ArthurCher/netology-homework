{
 "cells": [
  {
   "cell_type": "markdown",
   "metadata": {},
   "source": [
    "### Домашнее задание к лекции «Случайные события. Случайные величины»\n",
    "Смоделировать игру против лотерейного автомата типа “777”. Игрок платит 1 руб., после чего выпадает случайное целое число, равномерно распределенное от 0 до 999. При некоторых значениях числа игрок получает выигрыш."
   ]
  },
  {
   "cell_type": "code",
   "execution_count": 3,
   "metadata": {},
   "outputs": [],
   "source": [
    "import numpy as np"
   ]
  },
  {
   "cell_type": "code",
   "execution_count": 5,
   "metadata": {},
   "outputs": [
    {
     "name": "stdout",
     "output_type": "stream",
     "text": [
      "Вероятность выиграть -> 0.2038757\n",
      "Средний выигрыш за игру -> -0.228347\n"
     ]
    }
   ],
   "source": [
    "trials = 10000000 # Количество попыток\n",
    "price = 0 # Итоговая стоимость попыток\n",
    "successes = 0 # Количество успехов\n",
    "earn = 0 # Суммарное итоговое количество заработанных денег за все попытки\n",
    "\n",
    "for _iter in range(trials):\n",
    "    number = str(np.random.randint(0, 1000)) # Генерирую случайно число\n",
    "    if len(number) == 1:\n",
    "        result_number = '00'+number\n",
    "    \n",
    "    elif len(number) == 2:\n",
    "        result_number = '0'+number\n",
    "        \n",
    "    else:\n",
    "        result_number = number\n",
    "    \n",
    "# result_number - случайное число в формате строки\n",
    "# Проверки на выигрыш, если выиграл, то к итоговой сумме выигрыша добавляет сумма выиграша конкретной попытки\n",
    "# Количество успехов увеличивается на 1\n",
    "    \n",
    "    if result_number == '777':\n",
    "        earn+=200\n",
    "        successes+=1\n",
    "    \n",
    "    elif result_number == '999':\n",
    "        earn+=100\n",
    "        successes+=1\n",
    "    \n",
    "    elif result_number == '555':\n",
    "        earn+=50\n",
    "        successes+=1\n",
    "        \n",
    "    elif result_number == '333':\n",
    "        earn+=15\n",
    "        successes+=1\n",
    "    \n",
    "    elif result_number == '111':\n",
    "        earn+=10\n",
    "        successes+=1\n",
    "        \n",
    "    elif result_number[1:2] == '77':\n",
    "        earn+=5\n",
    "        successes+=1\n",
    "    \n",
    "    elif result_number[2] == '7':\n",
    "        earn+=3\n",
    "        successes+=1\n",
    "    \n",
    "    elif result_number[1:2] == '00':\n",
    "        earn+=2\n",
    "        successes+=1\n",
    "        \n",
    "    elif result_number[2] == '0':\n",
    "        earn+=1\n",
    "        successes+=1\n",
    "    \n",
    "    price += 1 # Итоговая стоимость попыток увеличивается на 1\n",
    "\n",
    "p_autoband = successes / trials # Считаем вероятность выиграть хоть сколько-то\n",
    "print(\"Вероятность выиграть ->\", f'{p_autoband:.{7}f}')\n",
    "\n",
    "# Средний выигрыш получается: итоговый выигрыш за все попытки минус итоговая стоимость всех попыток деленное на количество попыток\n",
    "print(\"Средний выигрыш за игру ->\", (earn-price)/trials) "
   ]
  },
  {
   "cell_type": "code",
   "execution_count": 1,
   "metadata": {},
   "outputs": [
    {
     "data": {
      "text/plain": [
       "-0.15499999999999992"
      ]
     },
     "execution_count": 1,
     "metadata": {},
     "output_type": "execute_result"
    }
   ],
   "source": [
    "result = ((1/1000)*200+(1/1000)*100+(1/1000)*50+(1/1000)*15+(1/1000)*10+(10/1000)*5+(100/1000)*3+(10/1000)*2+((100/1000))*1)-1\n",
    "#  Расчитал мат ожидание: средний выигрыш за одну игру. Вычел из него стоимость одной игры\n",
    "result"
   ]
  },
  {
   "cell_type": "markdown",
   "metadata": {},
   "source": [
    "#### Вывод:\n",
    "1. Экспериментальные и теоретические результаты подсчета среднего выиграша весьма отличаются. Возможно нужно больше попыток смоделировать, но считается очень долго\n",
    "2. Но в любом случае игра не выгодна"
   ]
  }
 ],
 "metadata": {
  "kernelspec": {
   "display_name": "Python 3",
   "language": "python",
   "name": "python3"
  },
  "language_info": {
   "codemirror_mode": {
    "name": "ipython",
    "version": 3
   },
   "file_extension": ".py",
   "mimetype": "text/x-python",
   "name": "python",
   "nbconvert_exporter": "python",
   "pygments_lexer": "ipython3",
   "version": "3.8.5"
  }
 },
 "nbformat": 4,
 "nbformat_minor": 4
}
