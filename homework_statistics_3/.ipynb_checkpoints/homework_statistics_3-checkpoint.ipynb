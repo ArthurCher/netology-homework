{
 "cells": [
  {
   "cell_type": "code",
   "execution_count": 1,
   "metadata": {},
   "outputs": [],
   "source": [
    "import numpy as np"
   ]
  },
  {
   "cell_type": "code",
   "execution_count": 12,
   "metadata": {},
   "outputs": [
    {
     "name": "stdout",
     "output_type": "stream",
     "text": [
      "yes\n",
      "Вероятность выиграть -> 0.0000002\n",
      "Средний выигрыш за игру -> -0.999999\n"
     ]
    }
   ],
   "source": [
    "trials = 10000000\n",
    "price = 1\n",
    "successes = 0\n",
    "earn = 0\n",
    "\n",
    "for _iter in range(trials):\n",
    "    first = np.random.randint(0, 10)\n",
    "    second = np.random.randint(0, 10)\n",
    "    third = np.random.randint(0, 10)\n",
    "    \n",
    "    result_number = str(first)+str(second)+str(successes)\n",
    "    \n",
    "    if result_number == '777':\n",
    "        earn+=200\n",
    "        successes+=1\n",
    "    \n",
    "    elif result_number == '999':\n",
    "        earn+=100\n",
    "        successes+=1\n",
    "    \n",
    "    elif result_number == '555':\n",
    "        earn+=50\n",
    "        successes+=1\n",
    "        \n",
    "    elif result_number == '333':\n",
    "        earn+=15\n",
    "        successes+=1\n",
    "    \n",
    "    elif result_number == '111':\n",
    "        earn+=10\n",
    "        successes+=1\n",
    "        \n",
    "    elif result_number[1:2] == '77':\n",
    "        earn+=5\n",
    "        successes+=1\n",
    "    \n",
    "    elif result_number[2] == '7':\n",
    "        earn+=3\n",
    "        successes+=1\n",
    "    \n",
    "    elif result_number[1:2] == '00':\n",
    "        earn+=2\n",
    "        successes+=1\n",
    "        \n",
    "    elif result_number[2] == '0':\n",
    "        earn+=1\n",
    "        successes+=1\n",
    "    \n",
    "    price += 1\n",
    "\n",
    "p_autoband = successes / trials\n",
    "print(\"Вероятность выиграть ->\", f'{p_autoband:.{7}f}')\n",
    "print(\"Средний выигрыш за игру ->\", (earn-price)/trials)"
   ]
  },
  {
   "cell_type": "code",
   "execution_count": 14,
   "metadata": {},
   "outputs": [
    {
     "data": {
      "text/plain": [
       "-0.16499999999999992"
      ]
     },
     "execution_count": 14,
     "metadata": {},
     "output_type": "execute_result"
    }
   ],
   "source": [
    "result = ((1/1000)*200+(1/1000)*100+(1/1000)*50+(1/1000)*15+(1/1000)*10+(10/1000)*5+(100/1000)*3+(10/1000)+((100/1000))*1)-1\n",
    "result"
   ]
  }
 ],
 "metadata": {
  "kernelspec": {
   "display_name": "Python 3",
   "language": "python",
   "name": "python3"
  },
  "language_info": {
   "codemirror_mode": {
    "name": "ipython",
    "version": 3
   },
   "file_extension": ".py",
   "mimetype": "text/x-python",
   "name": "python",
   "nbconvert_exporter": "python",
   "pygments_lexer": "ipython3",
   "version": "3.8.5"
  }
 },
 "nbformat": 4,
 "nbformat_minor": 4
}
