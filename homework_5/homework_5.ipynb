{
 "cells": [
  {
   "cell_type": "markdown",
   "metadata": {},
   "source": [
    "# Домашнее задание к лекции Работа с файловой системой и модули"
   ]
  },
  {
   "cell_type": "code",
   "execution_count": 1,
   "metadata": {},
   "outputs": [
    {
     "name": "stdout",
     "output_type": "stream",
     "text": [
      "1840e0b9d4: Продукты\n",
      "4e4f90fcfb: Электроника\n",
      "afea8d72fc: Электроника\n",
      "373a6055fe: Бытовая техника\n",
      "9b2ab046f3: Электроника\n",
      "9f39d307c3: Электроника\n"
     ]
    }
   ],
   "source": [
    "import json\n",
    "\n",
    "\n",
    "purchase_log = []\n",
    "purchase = {}\n",
    "\n",
    "# Первый пункт задания\n",
    "# Загружаем в список содержимое файла purchase_log.txt\n",
    "# Таким образом, как и по условию задачи, помещаем все содержимое в оперативную память компрьютера\n",
    "\n",
    "with open('Downloads/purchase_log.txt', 'r') as data_file:\n",
    "    for line in data_file:\n",
    "        purchase_log.append(json.loads(line))\n",
    "        \n",
    "# Переделываем полученный список в требуемый словарь вида {‘1840e0b9d4’: ‘Продукты’, …}\n",
    "        \n",
    "for line in purchase_log:\n",
    "    if line['user_id'] != 'user_id':\n",
    "        purchase[line['user_id']] = line['category']\n",
    "        \n",
    "# Вывожу первые 5 элементов этого словаря\n",
    "\n",
    "step = 0        \n",
    "\n",
    "for item in purchase:\n",
    "    print(item,': ', purchase[item], sep='')\n",
    "    step += 1\n",
    "    if step > 5:\n",
    "        break\n",
    "        \n",
    "# Второй пункт задания\n",
    "# Читаю построчно: читаю строку, обрабатываю ее (делаю из нее список), проверяю список\n",
    "# Добавляю категорию, если удовлетворяет условию, делаю из полученного списка обратно строку\n",
    "# Пишу полученную строку в файл funnel.csv и перехожу к следующей строке visit_log.csv\n",
    "         \n",
    "with open('Downloads/visit_log.csv', 'r') as parent_file:\n",
    "    with open('Downloads/funnel.csv', 'a') as finaly_file:\n",
    "        for line in parent_file:\n",
    "            line_list = line.strip().split(',')\n",
    "            if line_list[0] in purchase.keys():\n",
    "                line_list.append(purchase.get(line_list[0]))\n",
    "                log_line = \",\".join(line_list)+'\\n'\n",
    "                \n",
    "                finaly_file.write(log_line)"
   ]
  }
 ],
 "metadata": {
  "kernelspec": {
   "display_name": "Python 3",
   "language": "python",
   "name": "python3"
  },
  "language_info": {
   "codemirror_mode": {
    "name": "ipython",
    "version": 3
   },
   "file_extension": ".py",
   "mimetype": "text/x-python",
   "name": "python",
   "nbconvert_exporter": "python",
   "pygments_lexer": "ipython3",
   "version": "3.8.5"
  }
 },
 "nbformat": 4,
 "nbformat_minor": 4
}
